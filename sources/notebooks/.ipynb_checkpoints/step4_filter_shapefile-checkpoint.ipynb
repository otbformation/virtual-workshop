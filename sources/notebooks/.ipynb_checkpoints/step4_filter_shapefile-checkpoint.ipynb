{
 "cells": [
  {
   "cell_type": "markdown",
   "metadata": {},
   "source": [
    "<img style=\"float: left; margin:0px 15px 15px 0px; width:120px\" src=\"https://www.orfeo-toolbox.org/wp-content/uploads/2016/03/logo-orfeo-toolbox.png\">\n",
    "\n",
    "# OTB Guided Tour - FOSS4G 2019 Bucharest\n",
    "## Yannick TANGUY and David YOUSSEFI (CNES, French Space Agency)\n",
    "\n",
    "<br>\n",
    "\n",
    "<b> Press <span style=\"color:black;background:yellow\">SHIFT+ENTER</span> to execute the notebook interactively cell by cell </b></div>\n",
    "\n",
    "## Step 4 : Filter shapefile"
   ]
  },
  {
   "cell_type": "markdown",
   "metadata": {},
   "source": [
    "### (Re)generate watermask (optional)"
   ]
  },
  {
   "cell_type": "code",
   "execution_count": null,
   "metadata": {},
   "outputs": [],
   "source": [
    "# Data directory\n",
    "DATA_DIR = \"data\"\n",
    "\n",
    "# Output directory\n",
    "OUTPUT_DIR = \"output\"\n",
    "\n",
    "# Date list\n",
    "DATE_LIST = [\"20180711\", \"20180701\", \"20180621\"]\n",
    "\n",
    "import time\n",
    "import os\n",
    "from glob import glob\n",
    "\n",
    "import otbApplication\n",
    "\n",
    "# Watermask\n",
    "watermask = os.path.join(OUTPUT_DIR, \"WATERMASK.tif\")\n",
    "\n",
    "def compute_ndwi(date):\n",
    "    im = glob(os.path.join(DATA_DIR, \"*{}*.tif\".format(date)))[0]\n",
    "    ndwi = os.path.join(OUTPUT_DIR, \"NDWI_{}.tif\".format(date))\n",
    "    app = otbApplication.Registry.CreateApplication(\"BandMath\")\n",
    "    app.SetParameterStringList(\"il\",[im])\n",
    "    # app.SetParameterString(\"out\", ndwi) # not necessary\n",
    "    app.SetParameterString(\"exp\", \"(im1b2-im1b4)/(im1b2+im1b4)\")\n",
    "    exit_code = app.Execute()\n",
    "    return app # return app without writing result\n",
    "\n",
    "# (Re)generate watermask\n",
    "tic = time.clock()\n",
    "ndwi_apps = list(map(compute_ndwi, DATE_LIST))\n",
    "\n",
    "# thres app\n",
    "thresapp = otbApplication.Registry.CreateApplication(\"BandMath\")\n",
    "for ndwi in ndwi_apps:\n",
    "    thresapp.AddImageToParameterInputImageList(\"il\", ndwi.GetParameterOutputImage(\"out\"))\n",
    "thresapp.SetParameterString(\"out\", watermask)\n",
    "thresapp.SetParameterString(\"exp\", \"max(im1b1, im2b1, im3b1) < 0.3\")\n",
    "\n",
    "exit_code = thresapp.ExecuteAndWriteOutput()\n",
    "toc = time.clock()\n",
    "print (\"Duration time: {} seconds\".format(toc-tic))"
   ]
  },
  {
   "cell_type": "markdown",
   "metadata": {},
   "source": [
    "### Polygonize with rasterio"
   ]
  },
  {
   "cell_type": "code",
   "execution_count": null,
   "metadata": {},
   "outputs": [],
   "source": [
    "import os\n",
    "import numpy as np\n",
    "\n",
    "import rasterio\n",
    "from rasterio import features\n",
    "from rasterio import warp\n",
    "\n",
    "from shapely.geometry import Polygon\n",
    "\n",
    "# Output directory\n",
    "OUTPUT_DIR = \"output\"\n",
    "\n",
    "# Morbihan gulf\n",
    "morbihan = {'type': 'FeatureCollection', 'features': [{'type': 'Feature', 'properties': {}, 'geometry': {'type': 'Polygon', 'coordinates': [[[-2.953968, 47.603544], [-2.958085, 47.589653], [-2.929956, 47.563713], [-2.883303, 47.561397], [-2.86478, 47.556763], [-2.840081, 47.547958], [-2.826638, 47.552744], [-2.808114, 47.55761], [-2.774497, 47.5495], [-2.749113, 47.546951], [-2.730932, 47.564329], [-2.728188, 47.5861], [-2.740537, 47.595825], [-2.747055, 47.605317], [-2.780672, 47.609252], [-2.786846, 47.613649], [-2.802348, 47.61882], [-2.831848, 47.616969], [-2.857233, 47.620209], [-2.862721, 47.609563], [-2.865466, 47.600303], [-2.880559, 47.59984], [-2.891536, 47.597988], [-2.896339, 47.582243], [-2.938875, 47.589653], [-2.953968, 47.603544]]]}}]}\n",
    "morbihan_as_polygon = Polygon(morbihan['features'][0]['geometry']['coordinates'][0])\n",
    "\n",
    "# Convert Watermask to geojson collection\n",
    "watermask = os.path.join(OUTPUT_DIR, \"WATERMASK.tif\")\n",
    "with rasterio.open(watermask) as src:\n",
    "    image = src.read(1).astype(np.uint8)\n",
    "try:\n",
    "    transform = src.affine\n",
    "# depend on rasterio version\n",
    "except AttributeError:\n",
    "    transform = src.transform\n",
    "\n",
    "results = ({'type':'Feature', 'properties': {}, 'geometry': s} for i, (s, __) in enumerate(features.shapes(image, mask=image, transform=transform)))      \n",
    "\n",
    "# Filter geojson\n",
    "collection = {'type': 'FeatureCollection', 'features': list()}\n",
    "for res in results:\n",
    "    # area in m^2\n",
    "    island_area = Polygon(res['geometry']['coordinates'][0]).area\n",
    "    \n",
    "    # convert geom to EPSG:4326 (WGS84)\n",
    "    geom_for_geojson = warp.transform_geom(src.crs, 'EPSG:4326', res['geometry'])   \n",
    "    island_as_polygon = Polygon(geom_for_geojson['coordinates'][0])\n",
    "    \n",
    "    # Filter the smallest areas and the biggest (main land) and\n",
    "    # Crop the \"watermask\" with envelope shape morbihan (~ Morbihan gulf)\n",
    "    if island_area < 5000000.0 and island_area > 10000.0 and island_as_polygon.intersects(morbihan_as_polygon):\n",
    "        feature = dict(res)\n",
    "        feature['geometry'] = geom_for_geojson\n",
    "        collection['features'].append(feature)"
   ]
  },
  {
   "cell_type": "markdown",
   "metadata": {},
   "source": [
    "### Visualize Islands"
   ]
  },
  {
   "cell_type": "code",
   "execution_count": null,
   "metadata": {},
   "outputs": [],
   "source": [
    "import rasterio\n",
    "from glob import glob\n",
    "import display_api\n",
    "import json\n",
    "\n",
    "# Data directory\n",
    "DATA_DIR = \"data\"\n",
    "\n",
    "DATE = \"20180711\"\n",
    "\n",
    "print (\"Nb islands: {}\".format(len(collection['features'])))\n",
    "raster = rasterio.open(glob(os.path.join(DATA_DIR, \"*{}*.tif\".format(DATE)))[0])\n",
    "m, dc = display_api.rasters_on_map([raster], OUTPUT_DIR, [DATE], geojson_data=collection)\n",
    "m"
   ]
  }
 ],
 "metadata": {
  "kernelspec": {
   "display_name": "Python 3",
   "language": "python",
   "name": "python3"
  },
  "language_info": {
   "codemirror_mode": {
    "name": "ipython",
    "version": 3
   },
   "file_extension": ".py",
   "mimetype": "text/x-python",
   "name": "python",
   "nbconvert_exporter": "python",
   "pygments_lexer": "ipython3",
   "version": "3.7.4"
  }
 },
 "nbformat": 4,
 "nbformat_minor": 2
}
