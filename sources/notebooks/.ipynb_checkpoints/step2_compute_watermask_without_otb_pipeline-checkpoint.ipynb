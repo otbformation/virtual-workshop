{
 "cells": [
  {
   "cell_type": "markdown",
   "metadata": {},
   "source": [
    "<img style=\"float: left; margin:0px 15px 15px 0px; width:120px\" src=\"https://www.orfeo-toolbox.org/wp-content/uploads/2016/03/logo-orfeo-toolbox.png\">\n",
    "\n",
    "# OTB Guided Tour - FOSS4G 2019 Bucharest\n",
    "## Yannick TANGUY and David YOUSSEFI (CNES, French Space Agency)\n",
    "\n",
    "<br>\n",
    "\n",
    "<b> Press <span style=\"color:black;background:yellow\">SHIFT+ENTER</span> to execute the notebook interactively cell by cell </b></div>\n",
    "\n",
    "\n",
    "## Step 2 : Compute Watermask (without OTB pipeline)\n",
    "\n",
    "The aim of this second exercise is to combine NDWI2 values to create a water mask : what kind of function do we need to implement ?"
   ]
  },
  {
   "cell_type": "markdown",
   "metadata": {},
   "source": [
    "### Compute watermask for each image\n",
    "\n",
    "We are going to threshold NDWI to compute a watermask (1 for land, 0 for water)"
   ]
  },
  {
   "cell_type": "code",
   "execution_count": null,
   "metadata": {},
   "outputs": [],
   "source": [
    "# Data directory\n",
    "DATA_DIR = \"data\"\n",
    "\n",
    "# Output directory\n",
    "OUTPUT_DIR = \"output\"\n",
    "\n",
    "# Date list\n",
    "DATE_LIST = [\"20180711\", \"20180701\", \"20180621\"]\n",
    "\n",
    "import os\n",
    "from glob import glob\n",
    "import otbApplication\n",
    "\n",
    "# input / output files\n",
    "def compute_ndwi(date):\n",
    "    im = glob(os.path.join(DATA_DIR, \"*{}*.tif\".format(date)))[0]\n",
    "    ndwi = os.path.join(OUTPUT_DIR, \"NDWI_{}.tif\".format(date))\n",
    "    app = otbApplication.Registry.CreateApplication(\"BandMath\")\n",
    "    app.SetParameterStringList(\"il\",[im])\n",
    "    app.SetParameterString(\"out\", ndwi)\n",
    "    app.SetParameterString(\"exp\", \"(im1b2-im1b4)/(im1b2+im1b4)\")\n",
    "    exit_code = app.ExecuteAndWriteOutput()\n",
    "    return ndwi\n",
    "\n",
    "# compute ndwi for each image\n",
    "ndwi1 = compute_ndwi(DATE_LIST[0])\n",
    "ndwi2 = compute_ndwi(DATE_LIST[1])\n",
    "ndwi3 = compute_ndwi(DATE_LIST[2])"
   ]
  },
  {
   "cell_type": "code",
   "execution_count": null,
   "metadata": {},
   "outputs": [],
   "source": [
    "import rasterio\n",
    "import display_api\n",
    "\n",
    "rasters = list(map(rasterio.open, [ndwi1, ndwi2, ndwi3]))\n",
    "m, dc = display_api.rasters_on_map(rasters, OUTPUT_DIR, DATE_LIST)\n",
    "m"
   ]
  },
  {
   "cell_type": "markdown",
   "metadata": {},
   "source": [
    "### Threshold ndwi : <b> Fill the <span style=\"color:black;background:yellow\">threshold_ndwi</span> function </b> \n",
    "\n",
    "**Tips:** The formula to threshold the NDWI images can be written using\n",
    "- binary operators:\n",
    "    - ‘+’ addition, ‘-‘ subtraction, ‘*’ multiplication, ‘/’ division\n",
    "    - ‘^’ raise x to the power of y\n",
    "    - **‘<’ less than**, ‘>’ greater than, ‘<=’ less or equal, ‘>=’ greater or equal\n",
    "    - ‘==’ equal, ‘!=’ not equal\n",
    "    - ‘||’ logical or, ‘&&’ logical and\n",
    "- functions: exp(), log(), sin(), cos(), min(), **max()**, ...\n",
    "\n",
    "https://www.orfeo-toolbox.org/CookBook/Applications/app_BandMath.html\n",
    "\n",
    "**So combine the NDWI images and threshold the result...**"
   ]
  },
  {
   "cell_type": "code",
   "execution_count": null,
   "metadata": {},
   "outputs": [],
   "source": [
    "# Watermask\n",
    "watermask = os.path.join(OUTPUT_DIR, \"WATERMASK.tif\")\n",
    "def threshold_ndwi():\n",
    "    # Fill the threshold_ndwi function\n",
    "    pass\n",
    "\n",
    "threshold_ndwi()"
   ]
  },
  {
   "cell_type": "code",
   "execution_count": null,
   "metadata": {},
   "outputs": [],
   "source": [
    "import rasterio\n",
    "import display_api\n",
    "\n",
    "raster = rasterio.open(watermask)\n",
    "m, dc = display_api.rasters_on_map([raster], OUTPUT_DIR, [\"WATERMASK\"])\n",
    "m"
   ]
  },
  {
   "cell_type": "markdown",
   "metadata": {},
   "source": [
    "### Go to the [Step 3](./step3_compute_watermask_with_otb_pipeline.ipynb)"
   ]
  }
 ],
 "metadata": {
  "kernelspec": {
   "display_name": "Python 3",
   "language": "python",
   "name": "python3"
  },
  "language_info": {
   "codemirror_mode": {
    "name": "ipython",
    "version": 3
   },
   "file_extension": ".py",
   "mimetype": "text/x-python",
   "name": "python",
   "nbconvert_exporter": "python",
   "pygments_lexer": "ipython3",
   "version": "3.7.4"
  }
 },
 "nbformat": 4,
 "nbformat_minor": 2
}
