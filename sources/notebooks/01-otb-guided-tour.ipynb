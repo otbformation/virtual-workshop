{
 "cells": [
  {
   "cell_type": "markdown",
   "metadata": {},
   "source": [
    "<img style=\"float: left; margin:0px 15px 15px 0px; width:120px\" src=\"https://www.orfeo-toolbox.org/wp-content/uploads/2016/03/logo-orfeo-toolbox.png\">\n",
    "\n",
    "# OTB Guided Tour - Virtual Workshop\n",
    "## Emmanuelle SARRAZIN, Yannick TANGUY and David YOUSSEFI (CNES, French Space Agency)\n",
    "\n",
    "<br>\n",
    "\n",
    "Orfeo ToolBox (OTB) is an open-source library for remote sensing images processing. It has been initiated and funded by CNES to promote the use and the exploitation of the satellites images. Orfeo ToolBox aims at enabling large images state-of-the-art processing even on limited resources laptops, and is shipped with a set of extensible ready-to-use tools for classical remote sensing tasks, as well as a fully integrated, end-users oriented software called Monteverdi ; OTB is also accessible via QGIS processing module.\n",
    "\n",
    "This tutorial will present the ORFEO Toolbox and showcase available applications for processing and manipulating satellite imagery.\n",
    "\n",
    "<b> Press <span style=\"color:black;background:yellow\">SHIFT+ENTER</span> to execute the notebook interactively cell by cell </b></div>\n",
    "\n"
   ]
  },
  {
   "cell_type": "markdown",
   "metadata": {},
   "source": [
    "## Mount Google Drive and OTB Installation (optional step)\n",
    "\n",
    "The following cells are needed to run this notebook on Google Colab. First it mounts a google drive folder, then it downloads OTB binaries and install it in the virtual environment. Then, it compiles Python bindings so we can later run a \"import otpApplication\" command.\n",
    "\n",
    "*if you run this notebook from your own computer, you can jump to cell 5 (\"Sentinel 2 Dataset\")*"
   ]
  },
  {
   "cell_type": "code",
   "execution_count": null,
   "metadata": {},
   "outputs": [],
   "source": [
    "from google.colab import drive\n",
    "drive.mount('/content/gdrive/')\n",
    "# *******************************************************************************************************\n",
    "# \n",
    "# At this step, google will ask you to login and authorize access to your google drive from this notebook\n",
    "#\n",
    "# *******************************************************************************************************\n",
    "\n",
    "import sys\n",
    "\n",
    "# TODO : fix folder path\n",
    "FOLDER = 'gdrive/My Drive/material/01-otb-guided-tour/'\n",
    "sys.path.append(FOLDER)\n",
    "\n",
    "# This will download Orfeo ToolBox\n",
    "!wget https://www.orfeo-toolbox.org/packages/OTB-7.0.0-Linux64.run\n",
    "!apt-get install file\n",
    "\n",
    "# This configures OTB (source environment and compile Python bindings)\n",
    "!chmod +x OTB-7.0.0-Linux64.run && ./OTB-7.0.0-Linux64.run && cd OTB-7.0.0-Linux64 && ctest -S share/otb/swig/build_wrapping.cmake -VV"
   ]
  },
  {
   "cell_type": "code",
   "execution_count": null,
   "metadata": {},
   "outputs": [],
   "source": [
    "# *******************************************************************************************************\n",
    "# Configure OTB environment variables\n",
    "# *******************************************************************************************************\n",
    "import os, sys\n",
    "os.environ[\"CMAKE_PREFIX_PATH\"] = \"/content/OTB-7.0.0-Linux64\"\n",
    "os.environ[\"OTB_APPLICATION_PATH\"] = \"/content/OTB-7.0.0-Linux64/lib/otb/applications\"\n",
    "os.environ[\"PATH\"] = \"/content/OTB-7.0.0-Linux64/bin\" + os.pathsep + os.environ[\"PATH\"]\n",
    "sys.path.insert(0, \"/content/OTB-7.0.0-Linux64/lib/python\")\n",
    "os.environ[\"LC_NUMERIC\"] = \"C\"\n",
    "os.environ[\"GDAL_DATA\"] = \"content/OTB-7.0.0-Linux64/share/gdal\"\n",
    "os.environ[\"PROJ_LIB\"] = \"/content/OTB-7.0.0-Linux64/share/proj\"\n",
    "os.environ[\"GDAL_DRIVER_PATH\"] = \"disable\"\n",
    "os.environ[\"OTB_MAX_RAM_HINT\"] = \"1000\""
   ]
  },
  {
   "cell_type": "code",
   "execution_count": null,
   "metadata": {},
   "outputs": [],
   "source": [
    "# Installation of third-parties libraries\n",
    "!pip install rasterio==1.1.8"
   ]
  },
  {
   "cell_type": "code",
   "execution_count": null,
   "metadata": {},
   "outputs": [],
   "source": []
  },
  {
   "cell_type": "markdown",
   "metadata": {},
   "source": [
    "## Display the Sentinel 2 Dataset"
   ]
  },
  {
   "cell_type": "markdown",
   "metadata": {},
   "source": [
    "### Configure Dataset location and Output directory\n",
    "\n",
    "* fix links to the dataset\n",
    "* different dates avalaible\n",
    "* display images : ipyleaflets doen't work on google colab -> use rasterio"
   ]
  },
  {
   "cell_type": "code",
   "execution_count": null,
   "metadata": {},
   "outputs": [],
   "source": [
    "# Execution from COLAB -> use a folder on google drive\n",
    "# Data directory\n",
    "DATA_DIR = \"/gdrive/MyDrive/OTB_training/data\"\n",
    "\n",
    "# Output directory\n",
    "OUTPUT_DIR = \"/gdrive/MyDrive/OTB_training/output\"\n"
   ]
  },
  {
   "cell_type": "code",
   "execution_count": null,
   "metadata": {},
   "outputs": [],
   "source": [
    "# Local execution\n",
    "DATA_DIR = \"/home/yannick/Dev/dataset_OTB_virtual_workshop/\"\n",
    "# Local execution\n",
    "OUTPUT_DIR = \"/home/yannick/tmp\"\n"
   ]
  },
  {
   "cell_type": "code",
   "execution_count": null,
   "metadata": {},
   "outputs": [],
   "source": [
    "import os\n",
    "from glob import glob"
   ]
  },
  {
   "cell_type": "code",
   "execution_count": null,
   "metadata": {
    "scrolled": true
   },
   "outputs": [],
   "source": [
    "image = DATA_DIR+\"/xt_20180701_RVB_NIR.tif\""
   ]
  },
  {
   "cell_type": "code",
   "execution_count": null,
   "metadata": {},
   "outputs": [],
   "source": [
    "import display_api\n",
    "import rasterio\n",
    "import folium"
   ]
  },
  {
   "cell_type": "code",
   "execution_count": null,
   "metadata": {},
   "outputs": [],
   "source": [
    "im = rasterio.open(DATA_DIR+\"/xt_SENTINEL2B_20180621_RGB_NIR.tif\")"
   ]
  },
  {
   "cell_type": "code",
   "execution_count": null,
   "metadata": {},
   "outputs": [],
   "source": [
    "display_api.rasters_on_map_with_folium([im],OUTPUT_DIR,[\"label\"])"
   ]
  },
  {
   "cell_type": "markdown",
   "metadata": {},
   "source": [
    "## 1) How to compute vegetation index with OTB\n",
    "\n",
    "Here we create an application with otbApplication.Registry.CreateApplication(\"BandMath\")\n",
    "\n",
    "BandMath takes a list of images as input, so we have to give a Python list with \"il\" parameter : [image], or [image1, image2, .., imageN] and the main parameter is the mathematical expression \"exp\".\n",
    "\n",
    "Here, we compute NDVI :\n",
    "NDVI=(𝑋𝑛𝑖𝑟−𝑋𝑟𝑒𝑑)(𝑋𝑛𝑖𝑟+𝑋𝑟𝑒𝑑)\n",
    "\n",
    "The corresponding bands for NIR and Red are respectively the 4th and the 1st bands (b4, b1) of the first image (im1)"
   ]
  },
  {
   "cell_type": "code",
   "execution_count": null,
   "metadata": {},
   "outputs": [],
   "source": [
    "import otbApplication as otb"
   ]
  },
  {
   "cell_type": "code",
   "execution_count": null,
   "metadata": {},
   "outputs": [],
   "source": [
    "def compute_ndvi(im, ndvi):\n",
    "    app = otb.Registry.CreateApplication(\"BandMath\")\n",
    "    app.SetParameterStringList(\"il\",[im])\n",
    "    app.SetParameterString(\"out\", ndvi)\n",
    "    app.SetParameterString(\"exp\", \"(im1b4-im1b1)/(im1b4+im1b1)\")\n",
    "    exit_code = app.ExecuteAndWriteOutput()"
   ]
  },
  {
   "cell_type": "code",
   "execution_count": null,
   "metadata": {},
   "outputs": [],
   "source": [
    "image1 = DATA_DIR+\"/xt_SENTINEL2B_20180621_RGB_NIR.tif\"\n",
    "image2 = DATA_DIR+\"/xt_SENTINEL2B_20180701_RGB_NIR.tif\"\n",
    "image3 = DATA_DIR+\"/xt_SENTINEL2B_20180711_RGB_NIR.tif\""
   ]
  },
  {
   "cell_type": "code",
   "execution_count": null,
   "metadata": {},
   "outputs": [],
   "source": [
    "ndvi1 = OUTPUT_DIR+\"/ndvi1.tif\"\n",
    "ndvi2 = OUTPUT_DIR+\"/ndvi2.tif\"\n",
    "ndvi3 = OUTPUT_DIR+\"/ndvi3.tif\""
   ]
  },
  {
   "cell_type": "code",
   "execution_count": null,
   "metadata": {},
   "outputs": [],
   "source": [
    "# Choose an image an compute the NDVI ()\n",
    "# compute_ndvi(image1, ndvi1)\n",
    "compute_ndvi(...., ....)"
   ]
  },
  {
   "cell_type": "code",
   "execution_count": null,
   "metadata": {},
   "outputs": [],
   "source": [
    "# display the result\n",
    "display_api.rasters_on_map_with_folium([rasterio.open(ndvi2)],OUTPUT_DIR,[\"image\", \"ndvi\"])"
   ]
  },
  {
   "cell_type": "markdown",
   "metadata": {},
   "source": [
    "## 2) Compute Normalized Difference Water Index from Green and Near InfraRed bands\n",
    "\n",
    "NDWI2 is computed from green and nir bands (defined by McFeeters, 1996):\n",
    "\n",
    "NDWI2=(𝑋𝑔𝑟𝑒𝑒𝑛−𝑋𝑛𝑖𝑟)(𝑋𝑔𝑟𝑒𝑒𝑛+𝑋𝑛𝑖𝑟)\n",
    "\n",
    "For this second variant of the NDWI, a threshold can also be found in https://www.mdpi.com/2072-4292/5/7/3544/htm (McFeeters, 2013):\n",
    "\n",
    "* < 0.3 - Non-water\n",
    "* >= 0.3 - Water\n"
   ]
  },
  {
   "cell_type": "code",
   "execution_count": null,
   "metadata": {},
   "outputs": [],
   "source": [
    "def compute_ndwi(im, ndwi):\n",
    "    app = otb.Registry.CreateApplication(\"BandMath\")\n",
    "    app.SetParameterStringList(\"il\",[im])\n",
    "    app.SetParameterString(\"out\", ndwi)\n",
    "    app.SetParameterString(\"exp\", \"your expression\")\n",
    "    exit_code = app.ExecuteAndWriteOutput()"
   ]
  },
  {
   "cell_type": "code",
   "execution_count": null,
   "metadata": {},
   "outputs": [],
   "source": [
    "def compute_ndwi(im, ndwi):\n",
    "    app = otb.Registry.CreateApplication(\"BandMath\")\n",
    "    app.SetParameterStringList(\"il\",[im])\n",
    "    app.SetParameterString(\"out\", ndwi)\n",
    "    app.SetParameterString(\"exp\", \"(im1b2-im1b4)/(im1b2+im1b4)\")\n",
    "    exit_code = app.ExecuteAndWriteOutput()"
   ]
  },
  {
   "cell_type": "code",
   "execution_count": null,
   "metadata": {},
   "outputs": [],
   "source": [
    "# Compute and display NDWI on your images : \n",
    "ndwi1 = OUTPUT_DIR+\"/ndwi1.tif\"\n",
    "ndwi2 = OUTPUT_DIR+\"/ndwi2.tif\"\n",
    "ndwi3 = OUTPUT_DIR+\"/ndwi3.tif\"\n",
    "\n",
    "compute_ndwi(image1,ndwi1)\n",
    "compute_ndwi(image2,ndwi2)\n",
    "compute_ndwi(image3,ndwi3)\n",
    "\n",
    "display_api.rasters_on_map_with_folium([rasterio.open(ndwi1)],OUTPUT_DIR,[\"ndwi\"])"
   ]
  },
  {
   "cell_type": "markdown",
   "metadata": {},
   "source": [
    "## 3) Compute Watermask\n",
    "\n",
    "The aim of this second exercise is to combine NDWI2 values to create a water mask.\n",
    "\n",
    "As we have seen, the NDWI2 images are different depending on the dates, mainly because tides level is different and there maybe some clouds that hide some regions of the image.\n",
    "\n",
    "We have to find a function that can combine the information from the different NDWI images to create a watermask"
   ]
  },
  {
   "cell_type": "markdown",
   "metadata": {},
   "source": [
    "### Create a simple watermask (NDWI threshold)\n",
    "\n",
    "OTB BandMath can use these formula :\n",
    "\n",
    "    binary operators:\n",
    "        ‘+’ addition, ‘-‘ subtraction, ‘*’ multiplication, ‘/’ division\n",
    "        ‘^’ raise x to the power of y\n",
    "        ‘<’ less than, ‘>’ greater than, ‘<=’ less or equal, ‘>=’ greater or equal\n",
    "        ‘==’ equal, ‘!=’ not equal\n",
    "        ‘||’ logical or, ‘&&’ logical and\n",
    "    functions: exp(), log(), sin(), cos(), min(), max(), ...\n",
    "    if-then-else : \"(<expression> ? <value if true> : <value if false>)\"\n",
    "\n",
    "https://www.orfeo-toolbox.org/CookBook/Applications/app_BandMath.html\n",
    "\n",
    "Try to write an expression to create a basic watermask :\n",
    "\n",
    "*if ndwi < 0.3 then return 0 else return 1*"
   ]
  },
  {
   "cell_type": "code",
   "execution_count": null,
   "metadata": {},
   "outputs": [],
   "source": [
    "def threshold_ndwi(ndwi, mask):\n",
    "    # Fill the threshold_ndwi function\n",
    "    pass\n",
    "\n",
    "mask1 = OUTPUT_DIR+\"/mask1.tif\"\n",
    "threshold_ndwi(ndwi1, mask1)"
   ]
  },
  {
   "cell_type": "code",
   "execution_count": null,
   "metadata": {},
   "outputs": [],
   "source": [
    "def threshold_ndwi(ndwi, mask):\n",
    "    app = otb.Registry.CreateApplication(\"BandMath\")\n",
    "    app.SetParameterStringList(\"il\",[ndwi])\n",
    "    app.SetParameterString(\"out\", mask)\n",
    "    app.SetParameterString(\"exp\", \"(im1b1 < 0.3 ? 0 : 1) \")\n",
    "    exit_code = app.ExecuteAndWriteOutput()"
   ]
  },
  {
   "cell_type": "code",
   "execution_count": null,
   "metadata": {},
   "outputs": [],
   "source": [
    "mask1 = OUTPUT_DIR+\"/mask1.tif\"\n",
    "threshold_ndwi(ndwi1, mask1)"
   ]
  },
  {
   "cell_type": "code",
   "execution_count": null,
   "metadata": {},
   "outputs": [],
   "source": [
    "display_api.rasters_on_map_with_folium([rasterio.open(mask1)],OUTPUT_DIR,[\"mask1\"])"
   ]
  },
  {
   "cell_type": "markdown",
   "metadata": {},
   "source": [
    "### Create a watermask with the different NDWI images\n",
    "\n",
    "We now want to use the three dates to obtain the better mask, that will better identify the water presence. To do so, we shall identify the largest areas (high tides) in the different watermasks.\n",
    "\n",
    "Tips : OTB BandMath can take as input a list of images (im1, im2, ...) and produce a single result"
   ]
  },
  {
   "cell_type": "code",
   "execution_count": null,
   "metadata": {},
   "outputs": [],
   "source": [
    "def create_water_mask(ndwi1, ndwi2, ndwi3, mask):\n",
    "    pass\n"
   ]
  },
  {
   "cell_type": "code",
   "execution_count": null,
   "metadata": {},
   "outputs": [],
   "source": [
    "def create_water_mask(ndwi1, ndwi2, ndwi3, mask):\n",
    "    app = otb.Registry.CreateApplication(\"BandMath\")\n",
    "    app.SetParameterStringList(\"il\",[ndwi1, ndwi2, ndwi3])\n",
    "    app.SetParameterString(\"out\", mask)\n",
    "    app.SetParameterString(\"exp\", \"(max(im1b1, im2b1, im2b1) < 0.3 ? 0 : 1) \")\n",
    "    exit_code = app.ExecuteAndWriteOutput()"
   ]
  },
  {
   "cell_type": "code",
   "execution_count": null,
   "metadata": {},
   "outputs": [],
   "source": [
    "final_mask = OUTPUT_DIR+\"/mask.tif\"\n",
    "create_water_mask(ndwi1, ndwi2, ndwi3, final_mask)"
   ]
  },
  {
   "cell_type": "code",
   "execution_count": null,
   "metadata": {},
   "outputs": [],
   "source": [
    "display_api.rasters_on_map_with_folium([rasterio.open(final_mask)],OUTPUT_DIR,[\"mask\"])"
   ]
  },
  {
   "cell_type": "markdown",
   "metadata": {},
   "source": [
    "## 4) Polygonize watermask and filter features to count islands\n",
    "\n",
    "In this step, we are going to polygonize our binary masks : we will obtain a lot of polygons ! Some of these features have to be filtered (main land, ocean) in order to count the islands in Morbihan gulf."
   ]
  },
  {
   "cell_type": "code",
   "execution_count": null,
   "metadata": {},
   "outputs": [],
   "source": [
    "mask_final = rasterio.open(final_mask)                           "
   ]
  },
  {
   "cell_type": "code",
   "execution_count": null,
   "metadata": {},
   "outputs": [],
   "source": [
    "import numpy as np\n",
    "\n",
    "import rasterio\n",
    "from rasterio import features\n",
    "from rasterio import warp\n",
    "\n",
    "from shapely.geometry import Polygon\n",
    "\n",
    "# Output directory\n",
    "OUTPUT_DIR = \"output\"\n",
    "\n",
    "# Morbihan gulf\n",
    "morbihan = {'type': 'FeatureCollection', 'features': [{'type': 'Feature', 'properties': {}, 'geometry': {'type': 'Polygon', 'coordinates': [[[-2.953968, 47.603544], [-2.958085, 47.589653], [-2.929956, 47.563713], [-2.883303, 47.561397], [-2.86478, 47.556763], [-2.840081, 47.547958], [-2.826638, 47.552744], [-2.808114, 47.55761], [-2.774497, 47.5495], [-2.749113, 47.546951], [-2.730932, 47.564329], [-2.728188, 47.5861], [-2.740537, 47.595825], [-2.747055, 47.605317], [-2.780672, 47.609252], [-2.786846, 47.613649], [-2.802348, 47.61882], [-2.831848, 47.616969], [-2.857233, 47.620209], [-2.862721, 47.609563], [-2.865466, 47.600303], [-2.880559, 47.59984], [-2.891536, 47.597988], [-2.896339, 47.582243], [-2.938875, 47.589653], [-2.953968, 47.603544]]]}}]}\n",
    "morbihan_as_polygon = Polygon(morbihan['features'][0]['geometry']['coordinates'][0])\n",
    "\n",
    "# Convert Watermask to geojson collection\n",
    "with rasterio.open(final_mask) as src:\n",
    "    image = src.read(1).astype(np.uint8)\n",
    "try:\n",
    "    transform = src.affine\n",
    "# depend on rasterio version\n",
    "except AttributeError:\n",
    "    transform = src.transform\n",
    "\n",
    "results = ({'type':'Feature', 'properties': {}, 'geometry': s} for i, (s, __) in enumerate(features.shapes(image, mask=image, transform=transform)))      \n",
    "\n",
    "# Filter geojson\n",
    "collection = {'type': 'FeatureCollection', 'features': list()}\n",
    "for res in results:\n",
    "    # area in m^2\n",
    "    item_area = Polygon(res['geometry']['coordinates'][0]).area\n",
    "    \n",
    "    #print(\"> \"+str(item_area))\n",
    "    \n",
    "    # convert geom to EPSG:4326 (WGS84)\n",
    "    geom_for_geojson = warp.transform_geom(src.crs, 'EPSG:4326', res['geometry'])   \n",
    "    #print(geom_for_geojson)\n",
    "    #print(\"*****\\n\", morbihan_as_polygon)\n",
    "    #break\n",
    "    island_as_polygon = Polygon(geom_for_geojson['coordinates'][0])\n",
    "    \n",
    "    # Filter the smallest areas and the biggest (main land) and\n",
    "    # Crop the \"watermask\" with envelope shape morbihan (~ Morbihan gulf)\n",
    "    #\n",
    "     \n",
    "    # island_as_polygon.intersects(morbihan_as_polygon):\n",
    "    if item_area < 5000000.0 and item_area > 10000.0: \n",
    "        feature = dict(res)\n",
    "        feature['geometry'] = geom_for_geojson\n",
    "        collection['features'].append(feature)"
   ]
  },
  {
   "cell_type": "code",
   "execution_count": null,
   "metadata": {},
   "outputs": [],
   "source": []
  },
  {
   "cell_type": "code",
   "execution_count": null,
   "metadata": {},
   "outputs": [],
   "source": [
    "print (\"Nb islands: {}\".format(len(collection['features'])))\n",
    "m, dc = display_api.rasters_on_map_with_folium([rasterio.open(image2)], OUTPUT_DIR, [\"S2\"], geojson_data=collection)\n",
    "m"
   ]
  },
  {
   "cell_type": "markdown",
   "metadata": {},
   "source": [
    "### Visualize the islands (and count them :-)"
   ]
  },
  {
   "cell_type": "code",
   "execution_count": null,
   "metadata": {},
   "outputs": [],
   "source": []
  },
  {
   "cell_type": "code",
   "execution_count": null,
   "metadata": {},
   "outputs": [],
   "source": [
    "from ipyleaflet import Map, Rectangle, ImageOverlay, FullScreenControl, DrawControl, LayersControl, GeoJSON\n",
    "\n",
    "geo_json = GeoJSON(data=collection,\n",
    "                           style = {'color': 'green', 'opacity':1, 'weight':1.9, 'dashArray':'9', 'fillOpacity':0.1})"
   ]
  },
  {
   "cell_type": "code",
   "execution_count": null,
   "metadata": {},
   "outputs": [],
   "source": [
    "my_map = folium.Map()"
   ]
  },
  {
   "cell_type": "code",
   "execution_count": null,
   "metadata": {},
   "outputs": [],
   "source": [
    "my_map.add_children(geo_json)"
   ]
  },
  {
   "cell_type": "code",
   "execution_count": null,
   "metadata": {},
   "outputs": [],
   "source": []
  },
  {
   "cell_type": "code",
   "execution_count": null,
   "metadata": {},
   "outputs": [],
   "source": []
  },
  {
   "cell_type": "markdown",
   "metadata": {},
   "source": [
    "## Extra steps\n",
    "\n",
    "We could optimize the previous code by using OTB pipeline : instead of computing 3 watermaks, and then combining them, we could simplify the processing chain and compute directly the final watermask. This will save I/O and thus save computation time (especially if the chain is complex or use a lot of images).\n",
    "\n",
    "Since OTB 5.8, it is possible to connect an output image parameter from one application to the input image parameter of the next parameter. This results in the wiring of the internal ITK/OTB pipelines together, permitting image streaming between the applications. Consequently, this removes the need of writing temporary images and improves performance. Only the last application of the processing chain is responsible for writing the final result images.\n",
    "\n",
    "<b> Please rewrite the  <span style=\"color:black;background:yellow\"> code bellow </span> in order to only write the watermask file </b>\n",
    "\n",
    "**Tips:** Only call Execute() to setup the pipeline, not ExecuteAndWriteOutput() which would run it and write the output image and also use these functions to connect OTB applications :\n",
    "- ```GetParameterOutputImage``` : get a pointer to an image object [instead of reading from file]\n",
    "- ```AddImageToParameterInputImageList``` : add an image to an InputImageList parameter as an pointer to an image object pointer [instead of reading from file] (```SetParameterInputImage``` for an InputImageList)"
   ]
  },
  {
   "cell_type": "code",
   "execution_count": null,
   "metadata": {},
   "outputs": [],
   "source": []
  }
 ],
 "metadata": {
  "kernelspec": {
   "display_name": "Python 3",
   "language": "python",
   "name": "python3"
  },
  "language_info": {
   "codemirror_mode": {
    "name": "ipython",
    "version": 3
   },
   "file_extension": ".py",
   "mimetype": "text/x-python",
   "name": "python",
   "nbconvert_exporter": "python",
   "pygments_lexer": "ipython3",
   "version": "3.6.9"
  }
 },
 "nbformat": 4,
 "nbformat_minor": 2
}
