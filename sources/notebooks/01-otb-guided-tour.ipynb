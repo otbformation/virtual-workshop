{
 "cells": [
  {
   "cell_type": "markdown",
   "metadata": {
    "id": "IXghuIVDPEAs"
   },
   "source": [
    "<img style=\"float: left; margin:0px 15px 15px 0px; width:120px\" src=\"https://www.orfeo-toolbox.org/wp-content/uploads/2016/03/logo-orfeo-toolbox.png\">\n",
    "\n",
    "# OTB Guided Tour - Virtual Workshop\n",
    "## Emmanuelle SARRAZIN, Yannick TANGUY and David YOUSSEFI (CNES, French Space Agency)\n",
    "\n",
    "<br>\n",
    "\n",
    "Orfeo ToolBox (OTB) is an open-source library for remote sensing images processing. It has been initiated and funded by CNES to promote the use and the exploitation of the satellites images. Orfeo ToolBox aims at enabling large images state-of-the-art processing even on limited resources laptops, and is shipped with a set of extensible ready-to-use tools for classical remote sensing tasks, as well as a fully integrated, end-users oriented software called Monteverdi ; OTB is also accessible via QGIS processing module.\n",
    "\n",
    "This tutorial will present the ORFEO Toolbox and showcase available applications for processing and manipulating satellite imagery.\n",
    "\n",
    "<b> Press <span style=\"color:black;background:yellow\">SHIFT+ENTER</span> to execute the notebook interactively cell by cell </b></div>\n",
    "\n"
   ]
  },
  {
   "cell_type": "markdown",
   "metadata": {
    "id": "E_fQLyUvPEBf"
   },
   "source": [
    "## Mount Google Drive and OTB Installation (Execution from Google Colaboratory)\n",
    "\n",
    "The following cells are needed to run this notebook on Google Colab. First it mounts a google drive folder, then it downloads OTB binaries and install it in the virtual environment. Then, it compiles Python bindings so we can later run a \"import otpApplication\" command.\n",
    "\n",
    "**Mount your google drive (follow the link, allow what is needed and get the authorization code)**\n",
    "\n",
    "*if you run this notebook from your own computer, you can jump to cell \"Python imports and definition of some support functions\"*"
   ]
  },
  {
   "cell_type": "code",
   "execution_count": null,
   "metadata": {
    "colab": {
     "base_uri": "https://localhost:8080/"
    },
    "id": "iOrVo_pWPEBw",
    "outputId": "e36fbf10-1671-4548-906a-a3cb9a316c8f"
   },
   "outputs": [],
   "source": [
    "from google.colab import drive\n",
    "drive.mount('/content/gdrive/')\n",
    "# *******************************************************************************************************\n",
    "# \n",
    "# At this step, google will ask you to login and authorize access to your google drive from this notebook\n",
    "#\n",
    "# *******************************************************************************************************\n",
    "\n",
    "import sys\n",
    "\n",
    "# This will download Orfeo ToolBox\n",
    "!wget https://www.orfeo-toolbox.org/packages/archives/OTB/OTB-7.0.0-Linux64.run\n",
    "!apt-get install file\n",
    "\n",
    "# This configures OTB (source environment and compile Python bindings)\n",
    "!chmod +x OTB-7.0.0-Linux64.run && ./OTB-7.0.0-Linux64.run && cd OTB-7.0.0-Linux64 && ctest -S share/otb/swig/build_wrapping.cmake -VV"
   ]
  },
  {
   "cell_type": "code",
   "execution_count": null,
   "metadata": {
    "id": "VNdf2yUvPECT"
   },
   "outputs": [],
   "source": [
    "# *******************************************************************************************************\n",
    "# Configure OTB environment variables\n",
    "# *******************************************************************************************************\n",
    "import os, sys\n",
    "os.environ[\"CMAKE_PREFIX_PATH\"] = \"/content/OTB-7.0.0-Linux64\"\n",
    "os.environ[\"OTB_APPLICATION_PATH\"] = \"/content/OTB-7.0.0-Linux64/lib/otb/applications\"\n",
    "os.environ[\"PATH\"] = \"/content/OTB-7.0.0-Linux64/bin\" + os.pathsep + os.environ[\"PATH\"]\n",
    "sys.path.insert(0, \"/content/OTB-7.0.0-Linux64/lib/python\")\n",
    "os.environ[\"LC_NUMERIC\"] = \"C\"\n",
    "os.environ[\"GDAL_DATA\"] = \"/content/OTB-7.0.0-Linux64/share/gdal\"\n",
    "os.environ[\"PROJ_LIB\"] = \"/content/OTB-7.0.0-Linux64/share/proj\"\n",
    "os.environ[\"GDAL_DRIVER_PATH\"] = \"disable\"\n",
    "os.environ[\"OTB_MAX_RAM_HINT\"] = \"1000\""
   ]
  },
  {
   "cell_type": "code",
   "execution_count": null,
   "metadata": {
    "colab": {
     "base_uri": "https://localhost:8080/"
    },
    "id": "Fut-esVdPECh",
    "outputId": "21cf3118-6f28-4058-de11-073f3b0ae4b2"
   },
   "outputs": [],
   "source": [
    "# First upgrade pip\n",
    "!pip install --upgrade pip folium\n",
    "# Installation of third-parties libraries\n",
    "!pip install rasterio==1.1.8 geojson"
   ]
  },
  {
   "cell_type": "markdown",
   "metadata": {
    "id": "UCRGVu2R1cUn"
   },
   "source": [
    "## Python imports and definition of some support functions"
   ]
  },
  {
   "cell_type": "code",
   "execution_count": null,
   "metadata": {
    "id": "Jc9hz1NF8Z9s"
   },
   "outputs": [],
   "source": [
    "#@title\n",
    "# Imports\n",
    "import datetime\n",
    "import folium\n",
    "import geojson\n",
    "import io \n",
    "import os\n",
    "import rasterio\n",
    "import requests\n",
    "import zipfile\n",
    "import numpy as np\n",
    "import matplotlib.pyplot as plt\n",
    "\n",
    "from pathlib import Path\n",
    "from rasterio import features\n",
    "from rasterio import warp\n",
    "from rasterio.warp import transform_bounds\n",
    "from rasterio.warp import transform\n",
    "from shapely.geometry import Polygon\n",
    "\n",
    "# ignore rasterio FurtureWarnings\n",
    "import warnings\n",
    "warnings.simplefilter(action='ignore', category=FutureWarning)\n"
   ]
  },
  {
   "cell_type": "code",
   "execution_count": null,
   "metadata": {
    "id": "V8hQ-m6h1cUo"
   },
   "outputs": [],
   "source": [
    "#@title\n",
    "\"\"\"\n",
    "Some functions for Jupyter displaying\n",
    "- quicklook creation\n",
    "- map displaying (imshow, folium)\n",
    "\"\"\"\n",
    "def normalize(array, quantile=2):\n",
    "    \"\"\"\n",
    "    normalizes bands into 0-255 scale\n",
    "    :param array: numpy array to normalize\n",
    "    :param quantile: quantile for ignoring outliers\n",
    "    \"\"\"\n",
    "    array = np.nan_to_num(array)\n",
    "    array_min, array_max = np.percentile(array, quantile), np.percentile(array, 100-quantile)\n",
    "    normalized = 255*((array - array_min)/(array_max - array_min))\n",
    "    normalized[normalized>255] = 255\n",
    "    normalized[normalized<0] = 0\n",
    "    return normalized.astype(np.uint8)\n",
    "\n",
    "\n",
    "def imshow_RGBPIR(raster, colors=[\"Red\", \"Blue\", \"Green\", \"NIR\"]):\n",
    "    \"\"\"\n",
    "    show R,G,B, PIR image\n",
    "    :param array: raster (rasterio image)\n",
    "    :param colors: colors names list\n",
    "    \"\"\"\n",
    "    print (\"Quicklook by channel\")\n",
    "    multiband = []\n",
    "    fig, ax = plt.subplots(1,len(colors)+1, figsize=(21,7))\n",
    "    for nfig, color in enumerate(colors):\n",
    "        band = raster.read(nfig+1, out_shape=(int(raster.height/16), int(raster.width/16)))\n",
    "        band = normalize(band)\n",
    "\n",
    "        if nfig < 3: multiband.append(band)\n",
    "\n",
    "        try:          \n",
    "            ax[nfig].imshow(band, cmap=color+'s')\n",
    "        except ValueError:\n",
    "            ax[nfig].imshow(band, cmap='Oranges')\n",
    "    \n",
    "        ax[nfig].set_title(color+' channel')\n",
    "\n",
    "    ax[len(colors)].imshow(np.dstack(multiband))\n",
    "    ax[len(colors)].set_title(colors[0]+colors[1]+colors[2])\n",
    "\n",
    "\n",
    "def write_quicklook(raster, filename, downfactor=4):\n",
    "    \"\"\"\n",
    "    write a JPG preview\n",
    "    :param raster: raster (rasterio image)\n",
    "    :param filename: path to the output preview\n",
    "    :param downfactor: downsampling factor\n",
    "    \"\"\"\n",
    "    profile = raster.profile\n",
    "\n",
    "    # update size in profile\n",
    "    newwidth = int(raster.width/downfactor)\n",
    "    newheight = int(raster.height/downfactor)\n",
    "\n",
    "    try:\n",
    "        aff = raster.affine\n",
    "        newaffine = rasterio.Affine(aff.a/downfactor, aff.b, aff.c,\n",
    "                                    aff.d, aff.e/downfactor, aff.f)\n",
    "\n",
    "        profile.update(dtype=rasterio.uint8, count=3, compress='lzw', driver='JPEG',\n",
    "                       width=newwidth, height=newheight, transform=newaffine, affine=newaffine)\n",
    "\n",
    "    # depend on rasterio version\n",
    "    except AttributeError:\n",
    "        aff = raster.transform\n",
    "        newaffine = rasterio.Affine(aff.a/downfactor, aff.b, aff.c,\n",
    "                                    aff.d, aff.e/downfactor, aff.f)\n",
    "\n",
    "        profile.update(dtype=rasterio.uint8, count=3, compress='lzw', driver='JPEG',\n",
    "                       width=newwidth, height=newheight, transform=newaffine)\n",
    "\n",
    "    # write raster\n",
    "    with rasterio.open(filename, 'w', **profile) as dst:\n",
    "        for n in range(3):\n",
    "            if raster.count == 1:\n",
    "                band = raster.read(1, out_shape=(int(raster.height/downfactor), int(raster.width/downfactor)))\n",
    "            else:\n",
    "                band = raster.read(n+1, out_shape=(int(raster.height/downfactor), int(raster.width/downfactor)))\n",
    "                \n",
    "            band = normalize(band)\n",
    "            dst.write(band, n+1)\n",
    "\n",
    "\n",
    "def rasters_on_map(rasters_list, out_dir, overlay_names_list=None, geojson_data=None):\n",
    "    \"\"\"\n",
    "    displays a raster on a ipyleaflet map\n",
    "    :param rasters_list: rasters to display (rasterio image)\n",
    "    :param out_dir: path to the output directory (preview writing)\n",
    "    :param overlay_names_list: name of the overlays for the map\n",
    "    \"\"\"\n",
    "    # - Fill overlay names list\n",
    "    if overlay_names_list is None:\n",
    "      overlay_names_list = [ \"Image \"+str(i) for i in range(len(rasters_list))]\n",
    "    \n",
    "    # - get bounding box\n",
    "    raster = rasters_list[0]\n",
    "    epsg4326 = {'init': 'EPSG:4326'}\n",
    "    bounds = transform_bounds(raster.crs, epsg4326, *raster.bounds)\n",
    "    center = [(bounds[0]+bounds[2])/2, (bounds[1]+bounds[3])/2]\n",
    "\n",
    "    # - get centered map\n",
    "    f = folium.Figure(width=1100, height=600)\n",
    "    m = folium.Map(location=(center[-1], center[0]),start_zoom=10).add_to(f)\n",
    "    \n",
    "    # - plot quicklook\n",
    "    for raster, overlay_name in zip(rasters_list, overlay_names_list):\n",
    "        bounds = transform_bounds(raster.crs, epsg4326, *raster.bounds)\n",
    "        quicklook_url = os.path.join(out_dir, \"PREVIEW_{}.JPG\".format(datetime.datetime.now()))\n",
    "        write_quicklook(raster, quicklook_url)\n",
    "        quicklook = folium.raster_layers.ImageOverlay(\n",
    "            quicklook_url,\n",
    "            ((bounds[1], bounds[0]),(bounds[3], bounds[2])),\n",
    "            name=overlay_name\n",
    "        )\n",
    "        m.add_children(quicklook)\n",
    "\n",
    "    # - add geojson data\n",
    "    if geojson_data is not None:\n",
    "        folium.GeoJson(\n",
    "                       data=geojson_data,\n",
    "                       name=\"json\",\n",
    "                       #style = {'color': 'green', 'opacity':1, 'weight':1.9, 'dashArray':'9', 'fillOpacity':0.1},\n",
    "                      ).add_to(m)\n",
    "\n",
    "    # - add layer control\n",
    "    folium.LayerControl().add_to(m)\n",
    "    \n",
    "    return f\n",
    "\n",
    "def get_bounding_box_from_draw(raster, dc):\n",
    "    \"\"\"\n",
    "    returns bounding box in a image\n",
    "    :param raster: displayed raster (rasterio image)\n",
    "    :param dc: drawcontrol ipyleaflet\n",
    "    \"\"\"\n",
    "    try:\n",
    "        # Get last draw from the map\n",
    "        coordinates = np.array(dc.last_draw['geometry']['coordinates'][0])\n",
    "\n",
    "        # lon, lat to Sentinel-2 coordinate reference system\n",
    "        lon_min_max = [np.amin(coordinates[:,0]), np.amax(coordinates[:,0])]\n",
    "        lat_min_max = [np.amin(coordinates[:,1]), np.amax(coordinates[:,1])]\n",
    "        lons, lats = np.meshgrid(lon_min_max, lat_min_max)\n",
    "        xs, ys = transform({'init': 'EPSG:4326'}, raster.crs, lons.flatten(), lats.flatten())\n",
    "\n",
    "        # Get the region of interest in the image\n",
    "        rows, cols = [], []\n",
    "        for x, y in zip(xs, ys):\n",
    "            row, col = ~raster.affine * (x, y)\n",
    "            rows.append(row)\n",
    "            cols.append(col)\n",
    "        row_min, row_max = np.amin(rows), np.amax(rows)\n",
    "        col_min, col_max = np.amin(cols), np.amax(cols)\n",
    "        startx, starty = map(lambda v:int(np.floor(v)), [col_min, row_min])\n",
    "        endx, endy = map(lambda v:int(np.ceil(v)), [col_max, row_max])\n",
    "        print (\"Bounding box computed\")\n",
    "    except:\n",
    "        print (\"Draw a polygon in the displayed map\")\n",
    "        startx, starty, endx, endy = None, None, None, None\n",
    "    return startx, starty, endx, endy"
   ]
  },
  {
   "cell_type": "markdown",
   "metadata": {
    "id": "dJaqJWaHPECy"
   },
   "source": [
    "## Configure access to the Sentinel 2 Dataset"
   ]
  },
  {
   "cell_type": "markdown",
   "metadata": {
    "id": "QfW2JfpiPEC-"
   },
   "source": [
    "### Configure dataset location and output directory\n"
   ]
  },
  {
   "cell_type": "code",
   "execution_count": null,
   "metadata": {
    "id": "_LnNcJL5PEDA"
   },
   "outputs": [],
   "source": [
    "# Execution from COLAB -> use a folder on google drive\n",
    "OTB_ROOT = \"gdrive/MyDrive/OTB_formation/01-guided-tour\"\n",
    "Path(OTB_ROOT).mkdir(parents=True, exist_ok=True)\n",
    "\n",
    "# Data directory\n",
    "DATA_DIR = os.path.join(OTB_ROOT,\"data\")\n",
    "\n",
    "# Output directory\n",
    "OUTPUT_DIR = os.path.join(OTB_ROOT,\"output\")\n",
    "Path(OUTPUT_DIR).mkdir(parents=True, exist_ok=True)"
   ]
  },
  {
   "cell_type": "code",
   "execution_count": null,
   "metadata": {
    "id": "XeVKwK6MPEDC"
   },
   "outputs": [],
   "source": [
    "# Local execution\n",
    "# /!\\ Please enter the right location !! \n",
    "#DATA_DIR = \"/home/your_login/OTB\"\n",
    "# Local execution\n",
    "#OUTPUT_DIR = \"/home/your_login/your_output_folder\""
   ]
  },
  {
   "cell_type": "code",
   "execution_count": null,
   "metadata": {
    "id": "yEMkunsfRmFj"
   },
   "outputs": [],
   "source": [
    "zip_file_url = \"https://www.orfeo-toolbox.org/packages/WorkshopData/data_otb-guided-tour.zip\"\n",
    "r = requests.get(zip_file_url)\n",
    "z = zipfile.ZipFile(io.BytesIO(r.content))\n",
    "z.extractall(OTB_ROOT)"
   ]
  },
  {
   "cell_type": "code",
   "execution_count": null,
   "metadata": {
    "colab": {
     "base_uri": "https://localhost:8080/"
    },
    "id": "VX2i1V1-RuEv",
    "outputId": "f292152e-a5f3-4b37-fd59-3c03d3d18e08"
   },
   "outputs": [],
   "source": [
    "# Check if data has been correctly downloaded\n",
    "!ls gdrive/MyDrive/OTB_formation/data"
   ]
  },
  {
   "cell_type": "markdown",
   "metadata": {
    "id": "K1fa67ey-SLW"
   },
   "source": [
    "## View images"
   ]
  },
  {
   "cell_type": "code",
   "execution_count": null,
   "metadata": {
    "id": "jImVlsZHPEDN"
   },
   "outputs": [],
   "source": [
    "image1 = os.path.join(DATA_DIR,\"xt_SENTINEL2B_20180621-111349-432_L2A_T30TWT_D_V1-8_RVBPIR.tif\")\n",
    "image2 = os.path.join(DATA_DIR,\"xt_SENTINEL2B_20180701-111103-470_L2A_T30TWT_D_V1-8_RVBPIR.tif\")\n",
    "image3 = os.path.join(DATA_DIR,\"xt_SENTINEL2B_20180711-111139-550_L2A_T30TWT_D_V1-8_RVBPIR.tif\")"
   ]
  },
  {
   "cell_type": "code",
   "execution_count": null,
   "metadata": {
    "colab": {
     "base_uri": "https://localhost:8080/",
     "height": 621
    },
    "id": "CznQb9DPPEDV",
    "outputId": "30f3ba25-7e96-4a1a-8f16-ef2d678911fe"
   },
   "outputs": [],
   "source": [
    "im = rasterio.open(image1)\n",
    "rasters_on_map(\n",
    "               [im],  # Image list\n",
    "               OUTPUT_DIR, # Directory to save quicklooks\n",
    "               [\"Image 1\"]  # Image labels for legend\n",
    "               )"
   ]
  },
  {
   "cell_type": "markdown",
   "metadata": {
    "id": "Wt4a1Cq5PEDl"
   },
   "source": [
    "## 1) How to compute vegetation index with OTB\n",
    "\n",
    "Here we create an application with otbApplication.Registry.CreateApplication(\"BandMath\")\n",
    "\n",
    "[BandMath](https://www.orfeo-toolbox.org/CookBook/Applications/app_BandMath.html) takes a list of images as input, so we have to give a Python list with \"il\" parameter : [image], or [image1, image2, .., imageN] and the main parameter is the mathematical expression \"exp\".\n",
    "\n",
    "We will compute the Normalized Difference Vegetation Index [NDVI](https://en.wikipedia.org/wiki/Normalized_difference_vegetation_index).\n",
    "\n",
    "The formula for NDVI is:\n",
    "\n",
    "$NDVI=\\frac{X_{nir}-X{red}}{X_{nir}+X_{red}}$  \n",
    "\n",
    "where\n",
    "* $X_{nir}$ is the NIR (Near-Infrared) band\n",
    "* $X_{red}$ is the red band\n",
    "\n",
    "For Sentinel2 data, the corresponding bands for NIR and Red are respectively the 4th and the 1st bands (b4, b1) of the image."
   ]
  },
  {
   "cell_type": "code",
   "execution_count": null,
   "metadata": {
    "id": "oPyoUznSPEDr"
   },
   "outputs": [],
   "source": [
    "import otbApplication as otb"
   ]
  },
  {
   "cell_type": "code",
   "execution_count": null,
   "metadata": {
    "id": "_4l3FPMfPED_"
   },
   "outputs": [],
   "source": [
    "def compute_ndvi(im, ndvi):\n",
    "    \"\"\"\n",
    "    Compute NDVI for a image and write the result\n",
    "\n",
    "    :param im: Path to input image\n",
    "    :param ndvi: Path to ndvi image\n",
    "    \"\"\"\n",
    "    app = otb.Registry.CreateApplication(\"BandMath\")\n",
    "    app.SetParameterStringList(\"il\",[im])\n",
    "    app.SetParameterString(\"out\", ndvi)\n",
    "    app.SetParameterString(\"exp\", \"(im1b4-im1b1)/(im1b4+im1b1)\")\n",
    "    exit_code = app.ExecuteAndWriteOutput()"
   ]
  },
  {
   "cell_type": "code",
   "execution_count": null,
   "metadata": {
    "id": "k8LI2LJCPEEA"
   },
   "outputs": [],
   "source": [
    "ndvi1 = os.path.join(DATA_DIR,\"ndvi1.tif\")\n",
    "ndvi2 = os.path.join(DATA_DIR,\"ndvi2.tif\")\n",
    "ndvi3 = os.path.join(DATA_DIR,\"ndvi3.tif\")"
   ]
  },
  {
   "cell_type": "code",
   "execution_count": null,
   "metadata": {
    "id": "Wyrv8bjrPEEB"
   },
   "outputs": [],
   "source": [
    "# TODO: Choose an image an compute the NDVI ()\n",
    "compute_ndvi(...,....)\n"
   ]
  },
  {
   "cell_type": "code",
   "execution_count": null,
   "metadata": {
    "cellView": "form",
    "colab": {
     "base_uri": "https://localhost:8080/"
    },
    "id": "P-gYX-tEPEEF",
    "outputId": "cdb8e293-7dea-4a6d-83fb-fc47927bada4"
   },
   "outputs": [],
   "source": [
    "#@title\n",
    "compute_ndvi(image1,ndvi1)"
   ]
  },
  {
   "cell_type": "code",
   "execution_count": null,
   "metadata": {
    "colab": {
     "base_uri": "https://localhost:8080/",
     "height": 621
    },
    "id": "icl3Q4hyPEEM",
    "outputId": "b3cec54f-ac76-4da0-f7a4-595651eb6aa8"
   },
   "outputs": [],
   "source": [
    "# display the result\n",
    "im = rasterio.open(image1)\n",
    "ndvi = rasterio.open(ndvi1)\n",
    "rasters_on_map([im, ndvi],OUTPUT_DIR,[\"Image\", \"NDVI\"])"
   ]
  },
  {
   "cell_type": "markdown",
   "metadata": {
    "id": "GvPcHtaaPEET"
   },
   "source": [
    "## 2) Compute Normalized Difference Water Index from Green and Near InfraRed bands\n",
    "\n",
    "We will compute the Normalized Difference Water Index [NDWI](https://en.wikipedia.org/wiki/Normalized_difference_water_index).\n",
    "We will use the formula defined by McFeeters in 1996 which is obtained from green and nir bands :\n",
    "\n",
    "$NDWI2=\\frac{X_{green}−X_{nir}}{X_{green}+X_{nir}}$  \n",
    "\n",
    "where\n",
    "* $X_{nir}$ is the NIR (Near-Infrared) band\n",
    "* $X_{green}$ is the green band\n",
    "\n",
    "For Sentinel2 data, the corresponding bands for NIR and Green are respectively the 4th and the 2nd bands (b4, b2) of the image."
   ]
  },
  {
   "cell_type": "code",
   "execution_count": null,
   "metadata": {
    "id": "At8sJaqvPEEV"
   },
   "outputs": [],
   "source": [
    "# TODO: Complete the expression for NDWI\n",
    "def compute_ndwi(im, ndwi):\n",
    "    \"\"\"\n",
    "    Compute NDWI for a image and write the result\n",
    "\n",
    "    :param im: Path to input image\n",
    "    :param ndwi: Path to ndwi image\n",
    "    \"\"\"\n",
    "    app = otb.Registry.CreateApplication(\"BandMath\")\n",
    "    app.SetParameterStringList(\"il\",[im])\n",
    "    app.SetParameterString(\"out\", ndwi)\n",
    "    app.SetParameterString(\"exp\", \"........\")\n",
    "    exit_code = app.ExecuteAndWriteOutput()"
   ]
  },
  {
   "cell_type": "code",
   "execution_count": null,
   "metadata": {
    "cellView": "form",
    "id": "4ZJFSuPoPEEX"
   },
   "outputs": [],
   "source": [
    "#@title\n",
    "def compute_ndwi(im, ndwi):\n",
    "    \"\"\"\n",
    "    Compute NDWI for a image and write the result\n",
    "\n",
    "    :param im: Path to input image\n",
    "    :param ndwi: Path to ndwi image\n",
    "    \"\"\"\n",
    "    app = otb.Registry.CreateApplication(\"BandMath\")\n",
    "    app.SetParameterStringList(\"il\",[im])\n",
    "    app.SetParameterString(\"out\", ndwi)\n",
    "    app.SetParameterString(\"exp\", \"(im1b2-im1b4)/(im1b2+im1b4)\")\n",
    "    exit_code = app.ExecuteAndWriteOutput()"
   ]
  },
  {
   "cell_type": "code",
   "execution_count": null,
   "metadata": {
    "colab": {
     "base_uri": "https://localhost:8080/"
    },
    "id": "mo6DKv1YNv4C",
    "outputId": "7e1522e4-35be-485f-ad14-f7d981ec11a4"
   },
   "outputs": [],
   "source": [
    "# Compute NDWI images\n",
    "ndwi1 = os.path.join(DATA_DIR,\"ndwi1.tif\")\n",
    "ndwi2 = os.path.join(DATA_DIR,\"ndwi2.tif\")\n",
    "ndwi3 = os.path.join(DATA_DIR,\"ndwi3.tif\")\n",
    "\n",
    "compute_ndwi(image1,ndwi1)\n",
    "compute_ndwi(image2,ndwi2)\n",
    "compute_ndwi(image3,ndwi3)"
   ]
  },
  {
   "cell_type": "code",
   "execution_count": null,
   "metadata": {
    "colab": {
     "base_uri": "https://localhost:8080/",
     "height": 621
    },
    "id": "lIEf8YxpPEEl",
    "outputId": "e881d486-4a88-4d64-8b31-cee0a7d37d85"
   },
   "outputs": [],
   "source": [
    "# Display NDWI images \n",
    "rasters_on_map(\n",
    "    [rasterio.open(ndwi1),rasterio.open(ndwi2),rasterio.open(ndwi3)],\n",
    "    OUTPUT_DIR,\n",
    "    [\"NDWI 1\",\"NDWI 2\",\"NDWI 3\"]\n",
    "    )"
   ]
  },
  {
   "cell_type": "markdown",
   "metadata": {
    "id": "HX1DBTXpPEEq"
   },
   "source": [
    "## 3) Compute water mask\n",
    "\n",
    "The aim of this exercise is to use NDWI2 values to create a water mask.\n",
    "\n",
    "For NDWI2, a threshold can be found in https://www.mdpi.com/2072-4292/5/7/3544/htm (McFeeters, 2013):\n",
    "\n",
    "* < 0.3   : Non-water\n",
    "* \\>= 0.3 : Water\n",
    "\n",
    "*We will have to check if this threshold has to be adapted or not !*\n",
    "\n"
   ]
  },
  {
   "cell_type": "markdown",
   "metadata": {
    "id": "qVk7IlOyPEEw"
   },
   "source": [
    "### Create a simple watermask (NDWI threshold)\n",
    "\n",
    "The objective is to compute a watermask with one image using a threshold.\n",
    "\n",
    "OTB BandMath can use these formula :\n",
    "\n",
    "    binary operators:\n",
    "        ‘+’ addition, ‘-‘ subtraction, ‘*’ multiplication, ‘/’ division\n",
    "        ‘^’ raise x to the power of y\n",
    "        ‘<’ less than, ‘>’ greater than, ‘<=’ less or equal, ‘>=’ greater or equal\n",
    "        ‘==’ equal, ‘!=’ not equal\n",
    "        ‘||’ logical or, ‘&&’ logical and\n",
    "    functions: exp(), log(), sin(), cos(), min(), max(), ...\n",
    "    if-then-else : \"(<expression> ? <value if true> : <value if false>)\"\n",
    "\n",
    "https://www.orfeo-toolbox.org/CookBook/Applications/app_BandMath.html\n",
    "\n",
    "Try to write an expression to create a basic watermask :\n",
    "\n",
    "*if ndwi < 0.1 then return 0 else return 1*\n",
    "\n",
    "And then, try another threshold value"
   ]
  },
  {
   "cell_type": "code",
   "execution_count": null,
   "metadata": {
    "id": "2S2FDbyVPEE0"
   },
   "outputs": [],
   "source": [
    "# TODO: Complete the method\n",
    "def threshold_ndwi(ndwi, mask):\n",
    "    \"\"\"\n",
    "    Compute mask with threshold for a NDWI image and write the mask result\n",
    "    \n",
    "    :param ndwi: Path to ndwi image\n",
    "    :param mask: Path to mask image\n",
    "    \"\"\"\n",
    "    # TODO: Fill the threshold_ndwi function\n",
    "    pass"
   ]
  },
  {
   "cell_type": "code",
   "execution_count": null,
   "metadata": {
    "id": "sHgmSkSML1JH"
   },
   "outputs": [],
   "source": [
    "mask1 = os.path.join(OUTPUT_DIR,\"mask1.tif\")\n",
    "threshold_ndwi(ndwi1, mask1)"
   ]
  },
  {
   "cell_type": "code",
   "execution_count": null,
   "metadata": {
    "cellView": "form",
    "id": "0AyTsPhOPEE1"
   },
   "outputs": [],
   "source": [
    "#@title\n",
    "def threshold_ndwi(ndwi, mask):\n",
    "    \"\"\"\n",
    "    Compute mask with threshold for a NDWI image and write the mask result\n",
    "    \n",
    "    :param ndwi: Path to ndwi image\n",
    "    :param mask: Path to mask image\n",
    "    \"\"\"\n",
    "    app = otb.Registry.CreateApplication(\"BandMath\")\n",
    "    app.SetParameterStringList(\"il\",[ndwi])\n",
    "    app.SetParameterString(\"out\", mask)\n",
    "    app.SetParameterString(\"exp\", \"(im1b1 < 0.1 ? 0 : 1) \")\n",
    "    exit_code = app.ExecuteAndWriteOutput()"
   ]
  },
  {
   "cell_type": "code",
   "execution_count": null,
   "metadata": {
    "colab": {
     "base_uri": "https://localhost:8080/"
    },
    "id": "UsXpPVrnMpCJ",
    "outputId": "1dd90090-1d8e-48ff-9a13-06fc49bd666f"
   },
   "outputs": [],
   "source": [
    "# Compute masks\n",
    "mask1 = os.path.join(DATA_DIR,\"mask1.tif\")\n",
    "mask2 = os.path.join(DATA_DIR,\"mask2.tif\")\n",
    "mask3 = os.path.join(DATA_DIR,\"mask3.tif\")\n",
    "\n",
    "threshold_ndwi(ndwi1,mask1)\n",
    "threshold_ndwi(ndwi2,mask2)\n",
    "threshold_ndwi(ndwi3,mask3)"
   ]
  },
  {
   "cell_type": "code",
   "execution_count": null,
   "metadata": {
    "colab": {
     "base_uri": "https://localhost:8080/",
     "height": 621
    },
    "id": "sLWuOTIGNcFx",
    "outputId": "c2bea7d6-3185-4138-9e8b-fee0005dfd5d"
   },
   "outputs": [],
   "source": [
    "# Display masks\n",
    "rasters_on_map(\n",
    "    [rasterio.open(mask1),rasterio.open(mask2),rasterio.open(mask3)],\n",
    "    OUTPUT_DIR,\n",
    "    [\"Mask 1\",\"Mask 2\",\"Mask 3\"]\n",
    "    )"
   ]
  },
  {
   "cell_type": "markdown",
   "metadata": {
    "id": "9XM0ZB7kPEFD"
   },
   "source": [
    "### Create a watermask with the different NDWI images\n",
    "\n",
    "As we have seen, the NDWI2 images are different depending on the dates, mainly because tide level is different and there maybe some clouds that hide some regions of the image.\n",
    "\n",
    "We have to find a function that can combine the information from the different NDWI images to improve the watermask.\n",
    "\n",
    "So, we now want to use the three dates to obtain a better watermask, that will better identify the water presence. To do so, we shall identify the largest areas (high tides) in the different watermasks.\n",
    "\n",
    "*Tips : OTB BandMath can take as input a list of images (im1, im2, ...) and produce a single result*"
   ]
  },
  {
   "cell_type": "code",
   "execution_count": null,
   "metadata": {
    "id": "8JBjkwbRPEFG"
   },
   "outputs": [],
   "source": [
    "# TODO: Complete the method\n",
    "def create_water_mask(ndwi1, ndwi2, ndwi3, mask):\n",
    "    \"\"\"\n",
    "    Compute water mask and write the result\n",
    "    \n",
    "    :param ndwi1: Path to ndwi image 1\n",
    "    :param ndwi2: Path to ndwi image 2\n",
    "    :param ndwi3: Path to ndwi image 3\n",
    "    :param mask: Path to mask image\n",
    "    \"\"\"\n",
    "    pass"
   ]
  },
  {
   "cell_type": "code",
   "execution_count": null,
   "metadata": {
    "cellView": "form",
    "id": "UFKvjViFPEFI"
   },
   "outputs": [],
   "source": [
    "#@title\n",
    "def create_water_mask(ndwi1, ndwi2, ndwi3, mask):\n",
    "    \"\"\"\n",
    "    Compute water mask and write the result\n",
    "    \n",
    "    :param ndwi1: Path to ndwi image 1\n",
    "    :param ndwi2: Path to ndwi image 2\n",
    "    :param ndwi3: Path to ndwi image 3\n",
    "    :param mask: Path to mask image\n",
    "    \"\"\"\n",
    "    app = otb.Registry.CreateApplication(\"BandMath\")\n",
    "    app.SetParameterStringList(\"il\",[ndwi1, ndwi2, ndwi3])\n",
    "    app.SetParameterString(\"out\", mask)\n",
    "    app.SetParameterString(\"exp\", \"(max(im1b1, im2b1, im3b1) < 0.1 ? 0 : 1) \")\n",
    "    exit_code = app.ExecuteAndWriteOutput()"
   ]
  },
  {
   "cell_type": "code",
   "execution_count": null,
   "metadata": {
    "colab": {
     "base_uri": "https://localhost:8080/"
    },
    "id": "NWzn_2JJPEFT",
    "outputId": "24c7e71b-743e-4d55-c62b-a5ace9934b61"
   },
   "outputs": [],
   "source": [
    "# Compute mask\n",
    "final_mask = os.path.join(OUTPUT_DIR,\"final_mask.tif\")\n",
    "create_water_mask(ndwi1, ndwi2, ndwi3, final_mask)"
   ]
  },
  {
   "cell_type": "code",
   "execution_count": null,
   "metadata": {
    "colab": {
     "base_uri": "https://localhost:8080/",
     "height": 621
    },
    "id": "l7FySZluPEFV",
    "outputId": "2e23fb7d-c38c-4b76-e215-f07d50235fba"
   },
   "outputs": [],
   "source": [
    "rasters_on_map(\n",
    "    [rasterio.open(image1),rasterio.open(image2),rasterio.open(image3),rasterio.open(final_mask)],\n",
    "    OUTPUT_DIR,\n",
    "    [\"Image 1\",\"Image 2\",\"Image 3\",\"Water mask\"]\n",
    "    )"
   ]
  },
  {
   "cell_type": "markdown",
   "metadata": {
    "id": "8bTXslfyPEFV"
   },
   "source": [
    "## 4) Polygonize watermask and filter features to count islands\n",
    "\n",
    "In this step, we are going to polygonize our binary masks : we will obtain a lot of polygons ! Some of these features have to be filtered (main land, ocean) in order to count the islands in Morbihan gulf."
   ]
  },
  {
   "cell_type": "code",
   "execution_count": null,
   "metadata": {
    "colab": {
     "base_uri": "https://localhost:8080/",
     "height": 621
    },
    "id": "5NZsmZvdG4sZ",
    "outputId": "9552d10d-a195-473a-8862-b54fd113feda"
   },
   "outputs": [],
   "source": [
    "# Morbihan gulf\n",
    "morbihan = {'type': 'FeatureCollection', \n",
    "            'features': [{'type': 'Feature', \n",
    "                          'properties': {}, \n",
    "                          'geometry': {'type': 'Polygon', \n",
    "                                       'coordinates': [[[-2.953968, 47.603544], \n",
    "                                                        [-2.958085, 47.589653], \n",
    "                                                        [-2.929956, 47.563713], \n",
    "                                                        [-2.883303, 47.561397], \n",
    "                                                        [-2.86478, 47.556763], \n",
    "                                                        [-2.840081, 47.547958], \n",
    "                                                        [-2.826638, 47.552744], \n",
    "                                                        [-2.808114, 47.55761], \n",
    "                                                        [-2.774497, 47.5495], \n",
    "                                                        [-2.749113, 47.546951], \n",
    "                                                        [-2.730932, 47.564329], \n",
    "                                                        [-2.728188, 47.5861], \n",
    "                                                        [-2.740537, 47.595825], \n",
    "                                                        [-2.747055, 47.605317], \n",
    "                                                        [-2.780672, 47.609252], \n",
    "                                                        [-2.786846, 47.613649], \n",
    "                                                        [-2.802348, 47.61882], \n",
    "                                                        [-2.831848, 47.616969], \n",
    "                                                        [-2.857233, 47.620209], \n",
    "                                                        [-2.862721, 47.609563], \n",
    "                                                        [-2.865466, 47.600303], \n",
    "                                                        [-2.880559, 47.59984], \n",
    "                                                        [-2.891536, 47.597988], \n",
    "                                                        [-2.896339, 47.582243], \n",
    "                                                        [-2.938875, 47.589653], \n",
    "                                                        [-2.953968, 47.603544]]]\n",
    "                                       }\n",
    "                          }\n",
    "                         ]\n",
    "            }\n",
    "morbihan_as_polygon = Polygon(morbihan['features'][0]['geometry']['coordinates'][0])\n",
    "rasters_on_map([rasterio.open(image2)], OUTPUT_DIR, [\"Image Sentinel 2\"], geojson_data=morbihan)"
   ]
  },
  {
   "cell_type": "code",
   "execution_count": null,
   "metadata": {
    "colab": {
     "base_uri": "https://localhost:8080/",
     "height": 621
    },
    "id": "hOvsrLvcHiXY",
    "outputId": "5cb4cb45-7748-4572-d061-757a0ab084b1"
   },
   "outputs": [],
   "source": [
    "# Convert watermask to geojson collection\n",
    "with rasterio.open(final_mask) as src:\n",
    "    image = src.read(1).astype(np.uint8)\n",
    "try:\n",
    "    transform = src.affine\n",
    "# depend on rasterio version\n",
    "except AttributeError:\n",
    "    transform = src.transform\n",
    "results = list({'type':'Feature', \n",
    "            'properties': {}, \n",
    "            'geometry': s} \n",
    "           for i, (s, __) in enumerate(features.shapes(image, mask=image, transform=transform)))     \n",
    "\n",
    "# Visualize\n",
    "collection = {'type': 'FeatureCollection', 'features': list()}\n",
    "for res in results:\n",
    "    feature = dict(res)\n",
    "    # convert geom to EPSG:4326 (WGS84)\n",
    "    feature['geometry'] = warp.transform_geom(src.crs, 'EPSG:4326', res['geometry'])\n",
    "    collection['features'].append(feature)\n",
    "rasters_on_map([rasterio.open(image2)], OUTPUT_DIR, [\"Image Sentinel 2\"], geojson_data=collection) "
   ]
  },
  {
   "cell_type": "code",
   "execution_count": null,
   "metadata": {
    "id": "VlS53YJmPEFY"
   },
   "outputs": [],
   "source": [
    "# Filter geojson\n",
    "filtered_collection = {'type': 'FeatureCollection', 'features': list()}\n",
    "areas = []\n",
    "polygon = None\n",
    "for res in results:\n",
    "    # convert geom to EPSG:4326 (WGS84)\n",
    "    geom_for_geojson = warp.transform_geom(src.crs, 'EPSG:4326', res['geometry'])\n",
    "    \n",
    "    # Loop for multiple polygons\n",
    "    for i in range(len(res['geometry']['coordinates'])):\n",
    "        # area in m^2\n",
    "        item_area = Polygon(res['geometry']['coordinates'][i]).area          \n",
    "        island_as_polygon = Polygon(geom_for_geojson['coordinates'][i])\n",
    "    \n",
    "        # Filter the smallest areas and the biggest (main land) and\n",
    "        # crop the \"watermask\" with envelope shape morbihan (~ Morbihan gulf)   \n",
    "        if item_area < 5000000.0 and item_area > 7000.0 and island_as_polygon.intersects(morbihan_as_polygon):\n",
    "            polygon = island_as_polygon\n",
    "            feature = {'type': 'Feature',\n",
    "                       'properties':{},\n",
    "                       'geometry':{'type':'Polygon',\n",
    "                                   'coordinates': [geom_for_geojson['coordinates'][i]]\n",
    "                                   }\n",
    "            }\n",
    "            filtered_collection['features'].append(feature)\n",
    "            areas.append(item_area)"
   ]
  },
  {
   "cell_type": "code",
   "execution_count": null,
   "metadata": {
    "colab": {
     "base_uri": "https://localhost:8080/"
    },
    "id": "ZdcduTsZPEFi",
    "outputId": "db2f1e62-cd78-46b1-b740-d292a6c5531f"
   },
   "outputs": [],
   "source": [
    "print (\"Nb islands: {}\".format(len(filtered_collection['features'])))"
   ]
  },
  {
   "cell_type": "markdown",
   "metadata": {
    "id": "yEHizhVtPEFj"
   },
   "source": [
    "### Visualize the islands (and count them :-)"
   ]
  },
  {
   "cell_type": "code",
   "execution_count": null,
   "metadata": {
    "colab": {
     "base_uri": "https://localhost:8080/",
     "height": 621
    },
    "id": "LuC6_UcZKRLZ",
    "outputId": "fad15888-42c7-42d5-924e-87540ffe869b"
   },
   "outputs": [],
   "source": [
    "rasters_on_map([rasterio.open(image2)], OUTPUT_DIR, [\"Image Sentinel 2\"], geojson_data=filtered_collection)"
   ]
  },
  {
   "cell_type": "markdown",
   "metadata": {
    "id": "gJAQJtSLPEF0"
   },
   "source": [
    "## Extra steps\n",
    "\n",
    "We could optimize the previous code by using OTB pipeline : instead of computing 3 watermaks, and then combining them, we could simplify the processing chain and compute directly the final watermask. This will save I/O and thus save computation time (especially if the chain is complex or use a lot of images).\n",
    "\n",
    "Since OTB 5.8, it is possible to connect an output image parameter from one application to the input image parameter of the next parameter. This results in the wiring of the internal ITK/OTB pipelines together, permitting image streaming between the applications. Consequently, this removes the need of writing temporary images and improves performance. Only the last application of the processing chain is responsible for writing the final result images.\n",
    "\n",
    "<b> Please rewrite the  <span style=\"color:black;background:yellow\"> code bellow </span> in order to only write the watermask file </b>\n",
    "\n",
    "**Tips:** Only call Execute() to setup the pipeline, not ExecuteAndWriteOutput() which would run it and write the output image and also use these functions to connect OTB applications :\n",
    "- ```GetParameterOutputImage``` : get a pointer to an image object [instead of reading from file]\n",
    "- ```AddImageToParameterInputImageList``` : add an image to an InputImageList parameter as an pointer to an image object pointer [instead of reading from file] (```SetParameterInputImage``` for an InputImageList)"
   ]
  },
  {
   "cell_type": "code",
   "execution_count": null,
   "metadata": {
    "id": "B4bDEnbXPEF5"
   },
   "outputs": [],
   "source": []
  }
 ],
 "metadata": {
  "celltoolbar": "Aucun(e)",
  "colab": {
   "collapsed_sections": [],
   "name": "150221-01-otb-guided-tour.ipynb",
   "provenance": [],
   "toc_visible": true
  },
  "kernelspec": {
   "display_name": "Python 3",
   "language": "python",
   "name": "python3"
  },
  "language_info": {
   "codemirror_mode": {
    "name": "ipython",
    "version": 3
   },
   "file_extension": ".py",
   "mimetype": "text/x-python",
   "name": "python",
   "nbconvert_exporter": "python",
   "pygments_lexer": "ipython3",
   "version": "3.7.4"
  }
 },
 "nbformat": 4,
 "nbformat_minor": 4
}
