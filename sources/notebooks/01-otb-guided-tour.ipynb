{
 "cells": [
  {
   "cell_type": "markdown",
   "metadata": {
    "id": "IXghuIVDPEAs"
   },
   "source": [
    "<img style=\"float: left; margin:0px 15px 15px 0px; width:120px\" src=\"https://www.orfeo-toolbox.org/wp-content/uploads/2016/03/logo-orfeo-toolbox.png\">\n",
    "\n",
    "# OTB Guided Tour - Virtual Workshop\n",
    "## Emmanuelle SARRAZIN, Yannick TANGUY and David YOUSSEFI (CNES, French Space Agency)\n",
    "\n",
    "<br>\n",
    "\n",
    "Orfeo ToolBox (OTB) is an open-source library for remote sensing images processing. It has been initiated and funded by CNES to promote the use and the exploitation of the satellites images. Orfeo ToolBox aims at enabling large images state-of-the-art processing even on limited resources laptops, and is shipped with a set of extensible ready-to-use tools for classical remote sensing tasks, as well as a fully integrated, end-users oriented software called Monteverdi ; OTB is also accessible via QGIS processing module.\n",
    "\n",
    "This tutorial will present the ORFEO Toolbox and showcase available applications for processing and manipulating satellite imagery.\n",
    "\n",
    "<b> Press <span style=\"color:black;background:yellow\">SHIFT+ENTER</span> to execute the notebook interactively cell by cell </b></div>\n",
    "\n"
   ]
  },
  {
   "cell_type": "markdown",
   "metadata": {
    "id": "E_fQLyUvPEBf"
   },
   "source": [
    "## Mount Google Drive and OTB Installation (Execution from Google Colaboratory)\n",
    "\n",
    "The following cells are needed to run this notebook on Google Colab. First it mounts a google drive folder, then it downloads OTB binaries and install it in the virtual environment. Then, it compiles Python bindings so we can later run a \"import otpApplication\" command.\n",
    "\n",
    "*if you run this notebook from your own computer, you can jump to cell 5 (\"Sentinel 2 Dataset\")*"
   ]
  },
  {
   "cell_type": "code",
   "execution_count": null,
   "metadata": {
    "colab": {
     "base_uri": "https://localhost:8080/"
    },
    "executionInfo": {
     "elapsed": 75035,
     "status": "ok",
     "timestamp": 1612965745332,
     "user": {
      "displayName": "",
      "photoUrl": "",
      "userId": ""
     },
     "user_tz": -60
    },
    "id": "iOrVo_pWPEBw",
    "outputId": "a4fd1a29-4974-4fc5-9c1a-3f6b1edc0441"
   },
   "outputs": [],
   "source": [
    "from google.colab import drive\n",
    "drive.mount('/content/gdrive/')\n",
    "# *******************************************************************************************************\n",
    "# \n",
    "# At this step, google will ask you to login and authorize access to your google drive from this notebook\n",
    "#\n",
    "# *******************************************************************************************************\n",
    "\n",
    "import sys\n",
    "\n",
    "# TODO : fix folder path\n",
    "FOLDER = 'gdrive/My Drive/material/01-otb-guided-tour/'\n",
    "sys.path.append(FOLDER)\n",
    "\n",
    "# This will download Orfeo ToolBox\n",
    "!wget https://www.orfeo-toolbox.org/packages/archives/OTB/OTB-7.0.0-Linux64.run\n",
    "!apt-get install file\n",
    "\n",
    "# This configures OTB (source environment and compile Python bindings)\n",
    "!chmod +x OTB-7.0.0-Linux64.run && ./OTB-7.0.0-Linux64.run && cd OTB-7.0.0-Linux64 && ctest -S share/otb/swig/build_wrapping.cmake -VV"
   ]
  },
  {
   "cell_type": "code",
   "execution_count": null,
   "metadata": {
    "executionInfo": {
     "elapsed": 745,
     "status": "ok",
     "timestamp": 1612965766480,
     "user": {
      "displayName": "",
      "photoUrl": "",
      "userId": ""
     },
     "user_tz": -60
    },
    "id": "VNdf2yUvPECT"
   },
   "outputs": [],
   "source": [
    "# *******************************************************************************************************\n",
    "# Configure OTB environment variables\n",
    "# *******************************************************************************************************\n",
    "import os, sys\n",
    "os.environ[\"CMAKE_PREFIX_PATH\"] = \"/content/OTB-7.0.0-Linux64\"\n",
    "os.environ[\"OTB_APPLICATION_PATH\"] = \"/content/OTB-7.0.0-Linux64/lib/otb/applications\"\n",
    "os.environ[\"PATH\"] = \"/content/OTB-7.0.0-Linux64/bin\" + os.pathsep + os.environ[\"PATH\"]\n",
    "sys.path.insert(0, \"/content/OTB-7.0.0-Linux64/lib/python\")\n",
    "os.environ[\"LC_NUMERIC\"] = \"C\"\n",
    "os.environ[\"GDAL_DATA\"] = \"/content/OTB-7.0.0-Linux64/share/gdal\"\n",
    "os.environ[\"PROJ_LIB\"] = \"/content/OTB-7.0.0-Linux64/share/proj\"\n",
    "os.environ[\"GDAL_DRIVER_PATH\"] = \"disable\"\n",
    "os.environ[\"OTB_MAX_RAM_HINT\"] = \"1000\""
   ]
  },
  {
   "cell_type": "code",
   "execution_count": null,
   "metadata": {
    "id": "7bLRgz80Sj5m"
   },
   "outputs": [],
   "source": []
  },
  {
   "cell_type": "code",
   "execution_count": null,
   "metadata": {
    "colab": {
     "base_uri": "https://localhost:8080/"
    },
    "executionInfo": {
     "elapsed": 7591,
     "status": "ok",
     "timestamp": 1612965777259,
     "user": {
      "displayName": "",
      "photoUrl": "",
      "userId": ""
     },
     "user_tz": -60
    },
    "id": "Fut-esVdPECh",
    "outputId": "78f31f9b-4f67-4d0f-df93-8a1b4d9d7cbf"
   },
   "outputs": [],
   "source": [
    "# Installation of third-parties libraries\n",
    "!pip install rasterio==1.1.8"
   ]
  },
  {
   "cell_type": "code",
   "execution_count": null,
   "metadata": {
    "executionInfo": {
     "elapsed": 986,
     "status": "ok",
     "timestamp": 1612966491378,
     "user": {
      "displayName": "",
      "photoUrl": "",
      "userId": ""
     },
     "user_tz": -60
    },
    "id": "QiVKR6CASnQ6"
   },
   "outputs": [],
   "source": [
    "\"\"\"\n",
    "Some functions for Jupyter displaying\n",
    "- quicklook creation\n",
    "- map displaying (imshow, ipyleaflet)\n",
    "\"\"\"\n",
    "\n",
    "import os\n",
    "import datetime\n",
    "\n",
    "import numpy as np\n",
    "import matplotlib.pyplot as plt\n",
    "\n",
    "import rasterio\n",
    "from rasterio.warp import transform_bounds\n",
    "from rasterio.warp import transform\n",
    "\n",
    "import folium\n",
    "\n",
    "# ignore rasterio FurtureWarnings\n",
    "import warnings\n",
    "warnings.simplefilter(action='ignore', category=FutureWarning)\n",
    "\n",
    "#from ipyleaflet import Map, Rectangle, ImageOverlay, FullScreenControl, DrawControl, LayersControl, GeoJSON\n",
    "\n",
    "\n",
    "def normalize(array, quantile=2):\n",
    "    \"\"\"\n",
    "    normalizes bands into 0-255 scale\n",
    "    :param array: numpy array to normalize\n",
    "    :param quantile: quantile for ignoring outliers\n",
    "    \"\"\"\n",
    "    array = np.nan_to_num(array)\n",
    "    array_min, array_max = np.percentile(array, quantile), np.percentile(array, 100-quantile)\n",
    "    normalized = 255*((array - array_min)/(array_max - array_min))\n",
    "    normalized[normalized>255] = 255\n",
    "    normalized[normalized<0] = 0\n",
    "    return normalized.astype(np.uint8)\n",
    "\n",
    "\n",
    "def imshow_RGBPIR(raster, colors=[\"Red\", \"Blue\", \"Green\", \"NIR\"]):\n",
    "    \"\"\"\n",
    "    show R,G,B, PIR image\n",
    "    :param array: raster (rasterio image)\n",
    "    :param colors: colors names list\n",
    "    \"\"\"\n",
    "    print (\"Quicklook by channel\")\n",
    "    multiband = []\n",
    "    fig, ax = plt.subplots(1,len(colors)+1, figsize=(21,7))\n",
    "    for nfig, color in enumerate(colors):\n",
    "        band = raster.read(nfig+1, out_shape=(int(raster.height/16), int(raster.width/16)))\n",
    "        band = normalize(band)\n",
    "\n",
    "        if nfig < 3: multiband.append(band)\n",
    "\n",
    "        try:          \n",
    "            ax[nfig].imshow(band, cmap=color+'s')\n",
    "        except ValueError:\n",
    "            ax[nfig].imshow(band, cmap='Oranges')\n",
    "    \n",
    "        ax[nfig].set_title(color+' channel')\n",
    "\n",
    "    ax[len(colors)].imshow(np.dstack(multiband))\n",
    "    ax[len(colors)].set_title(colors[0]+colors[1]+colors[2])\n",
    "\n",
    "\n",
    "def write_quicklook(raster, filename, downfactor=4):\n",
    "    \"\"\"\n",
    "    write a JPG preview\n",
    "    :param raster: raster (rasterio image)\n",
    "    :param filename: path to the output preview\n",
    "    :param downfactor: downsampling factor\n",
    "    \"\"\"\n",
    "    profile = raster.profile\n",
    "\n",
    "    # update size in profile\n",
    "    newwidth = int(raster.width/downfactor)\n",
    "    newheight = int(raster.height/downfactor)\n",
    "\n",
    "    try:\n",
    "        aff = raster.affine\n",
    "        newaffine = rasterio.Affine(aff.a/downfactor, aff.b, aff.c,\n",
    "                                    aff.d, aff.e/downfactor, aff.f)\n",
    "\n",
    "        profile.update(dtype=rasterio.uint8, count=3, compress='lzw', driver='JPEG',\n",
    "                       width=newwidth, height=newheight, transform=newaffine, affine=newaffine)\n",
    "\n",
    "    # depend on rasterio version\n",
    "    except AttributeError:\n",
    "        aff = raster.transform\n",
    "        newaffine = rasterio.Affine(aff.a/downfactor, aff.b, aff.c,\n",
    "                                    aff.d, aff.e/downfactor, aff.f)\n",
    "\n",
    "        profile.update(dtype=rasterio.uint8, count=3, compress='lzw', driver='JPEG',\n",
    "                       width=newwidth, height=newheight, transform=newaffine)\n",
    "\n",
    "    # write raster\n",
    "    with rasterio.open(filename, 'w', **profile) as dst:\n",
    "        for n in range(3):\n",
    "            if raster.count == 1:\n",
    "                band = raster.read(1, out_shape=(int(raster.height/downfactor), int(raster.width/downfactor)))\n",
    "            else:\n",
    "                band = raster.read(n+1, out_shape=(int(raster.height/downfactor), int(raster.width/downfactor)))\n",
    "                \n",
    "            band = normalize(band)\n",
    "            dst.write(band, n+1)\n",
    "\n",
    "\n",
    "def rasters_on_map(rasters_list, out_dir, overlay_names_list, geojson_data=None):\n",
    "    \"\"\"\n",
    "    displays a raster on a ipyleaflet map\n",
    "    :param rasters_list: rasters to display (rasterio image)\n",
    "    :param out_dir: path to the output directory (preview writing)\n",
    "    :param overlay_names_list: name of the overlays for the map\n",
    "    \"\"\"\n",
    "    # - get bounding box\n",
    "    raster = rasters_list[0]\n",
    "    epsg4326 = {'init': 'EPSG:4326'}\n",
    "    bounds = transform_bounds(raster.crs, epsg4326, *raster.bounds)\n",
    "    center = [(bounds[0]+bounds[2])/2, (bounds[1]+bounds[3])/2]\n",
    "\n",
    "    # - get centered map\n",
    "    m = Map(center=(center[-1], center[0]), zoom=10)\n",
    "\n",
    "    # - plot quicklook\n",
    "    for raster, overlay_name in zip(rasters_list, overlay_names_list):\n",
    "        bounds = transform_bounds(raster.crs, epsg4326, *raster.bounds)\n",
    "        quicklook_url = os.path.join(out_dir, \"PREVIEW_{}.JPG\".format(datetime.datetime.now()))\n",
    "        write_quicklook(raster, quicklook_url)\n",
    "        quicklook = ImageOverlay(\n",
    "            url=quicklook_url,\n",
    "            bounds=((bounds[1], bounds[0]),(bounds[3], bounds[2])),\n",
    "            name=overlay_name\n",
    "        )\n",
    "        m.add_layer(quicklook)\n",
    "    m.add_control(LayersControl())\n",
    "    m.add_control(FullScreenControl())\n",
    "\n",
    "    # - add geojson data\n",
    "    if geojson_data is not None:\n",
    "        geo_json = GeoJSON(data=geojson_data,\n",
    "                           style = {'color': 'green', 'opacity':1, 'weight':1.9, 'dashArray':'9', 'fillOpacity':0.1})\n",
    "        m.add_layer(geo_json)\n",
    "    \n",
    "    # - add draw control\n",
    "    dc = DrawControl()\n",
    "    m.add_control(dc)\n",
    "\n",
    "    return m, dc\n",
    "\n",
    "def rasters_on_map_with_folium(rasters_list, out_dir, overlay_names_list, geojson_data=None):\n",
    "    \"\"\"\n",
    "    displays a raster on a ipyleaflet map\n",
    "    :param rasters_list: rasters to display (rasterio image)\n",
    "    :param out_dir: path to the output directory (preview writing)\n",
    "    :param overlay_names_list: name of the overlays for the map\n",
    "    \"\"\"\n",
    "    # - get bounding box\n",
    "    raster = rasters_list[0]\n",
    "    epsg4326 = {'init': 'EPSG:4326'}\n",
    "    bounds = transform_bounds(raster.crs, epsg4326, *raster.bounds)\n",
    "    center = [(bounds[0]+bounds[2])/2, (bounds[1]+bounds[3])/2]\n",
    "\n",
    "    # - get centered map\n",
    "    m = folium.Map(location=(center[-1], center[0]))\n",
    "\n",
    "    # - plot quicklook\n",
    "    for raster, overlay_name in zip(rasters_list, overlay_names_list):\n",
    "        bounds = transform_bounds(raster.crs, epsg4326, *raster.bounds)\n",
    "        quicklook_url = os.path.join(out_dir, \"PREVIEW_{}.JPG\".format(datetime.datetime.now()))\n",
    "        write_quicklook(raster, quicklook_url)\n",
    "        quicklook = folium.raster_layers.ImageOverlay(\n",
    "            quicklook_url,\n",
    "            ((bounds[1], bounds[0]),(bounds[3], bounds[2])),\n",
    "            name=overlay_name\n",
    "        )\n",
    "        m.add_children(quicklook)\n",
    "\n",
    "    # - add geojson data\n",
    "    if geojson_data is not None:\n",
    "        geo_json = GeoJSON(data=geojson_data,\n",
    "                           style = {'color': 'green', 'opacity':1, 'weight':1.9, 'dashArray':'9', 'fillOpacity':0.1})\n",
    "        m.add_children(geo_json)\n",
    "\n",
    "    return m\n",
    "\n",
    "\n",
    "\n",
    "\n",
    "def get_bounding_box_from_draw(raster, dc):\n",
    "    \"\"\"\n",
    "    returns bounding box in a image\n",
    "    :param raster: displayed raster (rasterio image)\n",
    "    :param dc: drawcontrol ipyleaflet\n",
    "    \"\"\"\n",
    "    try:\n",
    "        # Get last draw from the map\n",
    "        coordinates = np.array(dc.last_draw['geometry']['coordinates'][0])\n",
    "\n",
    "        # lon, lat to Sentinel-2 coordinate reference system\n",
    "        lon_min_max = [np.amin(coordinates[:,0]), np.amax(coordinates[:,0])]\n",
    "        lat_min_max = [np.amin(coordinates[:,1]), np.amax(coordinates[:,1])]\n",
    "        lons, lats = np.meshgrid(lon_min_max, lat_min_max)\n",
    "        xs, ys = transform({'init': 'EPSG:4326'}, raster.crs, lons.flatten(), lats.flatten())\n",
    "\n",
    "        # Get the region of interest in the image\n",
    "        rows, cols = [], []\n",
    "        for x, y in zip(xs, ys):\n",
    "            row, col = ~raster.affine * (x, y)\n",
    "            rows.append(row)\n",
    "            cols.append(col)\n",
    "        row_min, row_max = np.amin(rows), np.amax(rows)\n",
    "        col_min, col_max = np.amin(cols), np.amax(cols)\n",
    "        startx, starty = map(lambda v:int(np.floor(v)), [col_min, row_min])\n",
    "        endx, endy = map(lambda v:int(np.ceil(v)), [col_max, row_max])\n",
    "        print (\"Bounding box computed\")\n",
    "    except:\n",
    "        print (\"Draw a polygon in the displayed map\")\n",
    "        startx, starty, endx, endy = None, None, None, None\n",
    "    return startx, starty, endx, endy"
   ]
  },
  {
   "cell_type": "markdown",
   "metadata": {
    "id": "dJaqJWaHPECy"
   },
   "source": [
    "## Configure access to the Sentinel 2 Dataset"
   ]
  },
  {
   "cell_type": "markdown",
   "metadata": {
    "id": "QfW2JfpiPEC-"
   },
   "source": [
    "### Configure Dataset location and Output directory\n",
    "\n",
    "* fix links to the dataset\n",
    "* different dates avalaible\n",
    "* display images : ipyleaflets doen't work on google colab -> use rasterio"
   ]
  },
  {
   "cell_type": "code",
   "execution_count": null,
   "metadata": {
    "executionInfo": {
     "elapsed": 1022,
     "status": "ok",
     "timestamp": 1612966310911,
     "user": {
      "displayName": "",
      "photoUrl": "",
      "userId": ""
     },
     "user_tz": -60
    },
    "id": "_LnNcJL5PEDA"
   },
   "outputs": [],
   "source": [
    "# Execution from COLAB -> use a folder on google drive\n",
    "# Data directory\n",
    "DATA_DIR = \"gdrive/MyDrive/OTB_formation/data\"\n",
    "\n",
    "# Output directory\n",
    "OUTPUT_DIR = \"gdrive/MyDrive/OTB_formation/output\""
   ]
  },
  {
   "cell_type": "code",
   "execution_count": null,
   "metadata": {
    "id": "XeVKwK6MPEDC"
   },
   "outputs": [],
   "source": [
    "# Local execution\n",
    "# /!\\ Please enter the right location !! \n",
    "DATA_DIR = \"/home/your_login/dataset_OTB_virtual_workshop/Count_the_islands\"\n",
    "# Local execution\n",
    "OUTPUT_DIR = \"/home/your_login/your_output_folder\""
   ]
  },
  {
   "cell_type": "code",
   "execution_count": null,
   "metadata": {
    "executionInfo": {
     "elapsed": 1032,
     "status": "ok",
     "timestamp": 1612966162975,
     "user": {
      "displayName": "",
      "photoUrl": "",
      "userId": ""
     },
     "user_tz": -60
    },
    "id": "EoEo4kCjRlli"
   },
   "outputs": [],
   "source": [
    "import requests, zipfile, io"
   ]
  },
  {
   "cell_type": "code",
   "execution_count": null,
   "metadata": {
    "id": "S9nMwIOTTS9v"
   },
   "outputs": [],
   "source": []
  },
  {
   "cell_type": "code",
   "execution_count": null,
   "metadata": {
    "executionInfo": {
     "elapsed": 669,
     "status": "ok",
     "timestamp": 1612966913649,
     "user": {
      "displayName": "",
      "photoUrl": "",
      "userId": ""
     },
     "user_tz": -60
    },
    "id": "f6bzKTwDRl8h"
   },
   "outputs": [],
   "source": [
    "from pathlib import Path\n",
    "otb_data_path = \"gdrive/MyDrive/OTB_formation/\"\n",
    "\n",
    "Path(otb_data_path).mkdir(parents=True, exist_ok=True)\n",
    "Path(OUTPUT_DIR).mkdir(parents=True, exist_ok=True)\n"
   ]
  },
  {
   "cell_type": "code",
   "execution_count": null,
   "metadata": {
    "executionInfo": {
     "elapsed": 12681,
     "status": "ok",
     "timestamp": 1612966205768,
     "user": {
      "displayName": "",
      "photoUrl": "",
      "userId": ""
     },
     "user_tz": -60
    },
    "id": "yEMkunsfRmFj"
   },
   "outputs": [],
   "source": [
    "zip_file_url = \"https://www.orfeo-toolbox.org/packages/WorkshopData/data_otb-guided-tour.zip\"\n",
    "r = requests.get(zip_file_url)\n",
    "z = zipfile.ZipFile(io.BytesIO(r.content))\n",
    "z = zipfile.ZipFile(io.BytesIO(r.content))\n",
    "z.extractall(otb_data_path)"
   ]
  },
  {
   "cell_type": "code",
   "execution_count": null,
   "metadata": {
    "colab": {
     "base_uri": "https://localhost:8080/"
    },
    "executionInfo": {
     "elapsed": 784,
     "status": "ok",
     "timestamp": 1612966232479,
     "user": {
      "displayName": "",
      "photoUrl": "",
      "userId": ""
     },
     "user_tz": -60
    },
    "id": "VX2i1V1-RuEv",
    "outputId": "dcc65079-9f2c-488e-eed7-35689e09ab9a"
   },
   "outputs": [],
   "source": [
    "!ls gdrive/MyDrive/OTB_formation/data"
   ]
  },
  {
   "cell_type": "code",
   "execution_count": null,
   "metadata": {
    "executionInfo": {
     "elapsed": 792,
     "status": "ok",
     "timestamp": 1612966301537,
     "user": {
      "displayName": "",
      "photoUrl": "",
      "userId": ""
     },
     "user_tz": -60
    },
    "id": "Okt54ZCRPEDI"
   },
   "outputs": [],
   "source": [
    "import os\n",
    "from glob import glob\n",
    "\n",
    "import rasterio\n",
    "import folium"
   ]
  },
  {
   "cell_type": "code",
   "execution_count": null,
   "metadata": {
    "executionInfo": {
     "elapsed": 759,
     "status": "ok",
     "timestamp": 1612966314860,
     "user": {
      "displayName": "",
      "photoUrl": "",
      "userId": ""
     },
     "user_tz": -60
    },
    "id": "jImVlsZHPEDN"
   },
   "outputs": [],
   "source": [
    "image1 = DATA_DIR+\"/xt_SENTINEL2B_20180621-111349-432_L2A_T30TWT_D_V1-8_RVBPIR.tif\"\n",
    "image2 = DATA_DIR+\"/xt_SENTINEL2B_20180621-111349-432_L2A_T30TWT_D_V1-8_RVBPIR.tif\"\n",
    "image3 = DATA_DIR+\"/xt_SENTINEL2B_20180711-111139-550_L2A_T30TWT_D_V1-8_RVBPIR.tif\"\n"
   ]
  },
  {
   "cell_type": "code",
   "execution_count": null,
   "metadata": {
    "executionInfo": {
     "elapsed": 854,
     "status": "ok",
     "timestamp": 1612966326348,
     "user": {
      "displayName": "",
      "photoUrl": "",
      "userId": ""
     },
     "user_tz": -60
    },
    "id": "6BAqJ4oVPEDS"
   },
   "outputs": [],
   "source": [
    "im = rasterio.open(image1)"
   ]
  },
  {
   "cell_type": "code",
   "execution_count": null,
   "metadata": {
    "id": "pmTkLcKASRMB"
   },
   "outputs": [],
   "source": []
  },
  {
   "cell_type": "code",
   "execution_count": null,
   "metadata": {
    "colab": {
     "base_uri": "https://localhost:8080/",
     "height": 949
    },
    "executionInfo": {
     "elapsed": 2580,
     "status": "ok",
     "timestamp": 1612966499139,
     "user": {
      "displayName": "",
      "photoUrl": "",
      "userId": ""
     },
     "user_tz": -60
    },
    "id": "CznQb9DPPEDV",
    "outputId": "debf6e74-9e70-4ef3-b92f-fafbd1613ba2"
   },
   "outputs": [],
   "source": [
    "rasters_on_map_with_folium([im],OUTPUT_DIR,[\"image1\"])"
   ]
  },
  {
   "cell_type": "markdown",
   "metadata": {
    "id": "Wt4a1Cq5PEDl"
   },
   "source": [
    "## 1) How to compute vegetation index with OTB\n",
    "\n",
    "Here we create an application with otbApplication.Registry.CreateApplication(\"BandMath\")\n",
    "\n",
    "BandMath takes a list of images as input, so we have to give a Python list with \"il\" parameter : [image], or [image1, image2, .., imageN] and the main parameter is the mathematical expression \"exp\".\n",
    "\n",
    "Here, we compute NDVI :\n",
    "NDVI=(𝑋𝑛𝑖𝑟−𝑋𝑟𝑒𝑑)/(𝑋𝑛𝑖𝑟+𝑋𝑟𝑒𝑑)\n",
    "\n",
    "The corresponding bands for NIR and Red are respectively the 4th and the 1st bands (b4, b1) of the first image (im1)"
   ]
  },
  {
   "cell_type": "code",
   "execution_count": null,
   "metadata": {
    "executionInfo": {
     "elapsed": 868,
     "status": "ok",
     "timestamp": 1612966830541,
     "user": {
      "displayName": "",
      "photoUrl": "",
      "userId": ""
     },
     "user_tz": -60
    },
    "id": "oPyoUznSPEDr"
   },
   "outputs": [],
   "source": [
    "#@title\n",
    "import otbApplication as otb"
   ]
  },
  {
   "cell_type": "code",
   "execution_count": null,
   "metadata": {
    "executionInfo": {
     "elapsed": 1115,
     "status": "ok",
     "timestamp": 1612966847089,
     "user": {
      "displayName": "",
      "photoUrl": "",
      "userId": ""
     },
     "user_tz": -60
    },
    "id": "_4l3FPMfPED_"
   },
   "outputs": [],
   "source": [
    "def compute_ndvi(im, ndvi):\n",
    "    app = otb.Registry.CreateApplication(\"BandMath\")\n",
    "    app.SetParameterStringList(\"il\",[im])\n",
    "    app.SetParameterString(\"out\", ndvi)\n",
    "    app.SetParameterString(\"exp\", \"(im1b4-im1b1)/(im1b4+im1b1)\")\n",
    "    exit_code = app.ExecuteAndWriteOutput()"
   ]
  },
  {
   "cell_type": "code",
   "execution_count": null,
   "metadata": {
    "executionInfo": {
     "elapsed": 963,
     "status": "ok",
     "timestamp": 1612967033752,
     "user": {
      "displayName": "",
      "photoUrl": "",
      "userId": ""
     },
     "user_tz": -60
    },
    "id": "k8LI2LJCPEEA"
   },
   "outputs": [],
   "source": [
    "ndvi1 = OUTPUT_DIR+\"/ndvi1.tif\"\n",
    "ndvi2 = OUTPUT_DIR+\"/ndvi2.tif\"\n",
    "ndvi3 = OUTPUT_DIR+\"/ndvi3.tif\""
   ]
  },
  {
   "cell_type": "code",
   "execution_count": null,
   "metadata": {
    "colab": {
     "base_uri": "https://localhost:8080/"
    },
    "executionInfo": {
     "elapsed": 3073,
     "status": "ok",
     "timestamp": 1612967037171,
     "user": {
      "displayName": "",
      "photoUrl": "",
      "userId": ""
     },
     "user_tz": -60
    },
    "id": "Wyrv8bjrPEEB",
    "outputId": "5ffb5d1f-f925-476c-a6f3-51c2cfba4eaf"
   },
   "outputs": [],
   "source": [
    "# Choose an image an compute the NDVI ()\n",
    "\n",
    "compute_ndvi(image1,ndvi1)"
   ]
  },
  {
   "cell_type": "code",
   "execution_count": null,
   "metadata": {
    "id": "P-gYX-tEPEEF"
   },
   "outputs": [],
   "source": []
  },
  {
   "cell_type": "code",
   "execution_count": null,
   "metadata": {
    "colab": {
     "base_uri": "https://localhost:8080/",
     "height": 949
    },
    "executionInfo": {
     "elapsed": 1213,
     "status": "ok",
     "timestamp": 1612967054118,
     "user": {
      "displayName": "",
      "photoUrl": "",
      "userId": ""
     },
     "user_tz": -60
    },
    "id": "icl3Q4hyPEEM",
    "outputId": "eb65fc31-8bbb-45d6-dff9-03d329624ed0"
   },
   "outputs": [],
   "source": [
    "# display the result\n",
    "rasters_on_map_with_folium([rasterio.open(ndvi1)],OUTPUT_DIR,[\"image\", \"ndvi\"])"
   ]
  },
  {
   "cell_type": "markdown",
   "metadata": {
    "id": "GvPcHtaaPEET"
   },
   "source": [
    "## 2) Compute Normalized Difference Water Index from Green and Near InfraRed bands\n",
    "\n",
    "NDWI2 is computed from green and nir bands (defined by McFeeters, 1996):\n",
    "\n",
    "NDWI2=(𝑋𝑔𝑟𝑒𝑒𝑛−𝑋𝑛𝑖𝑟)/(𝑋𝑔𝑟𝑒𝑒𝑛+𝑋𝑛𝑖𝑟)\n",
    "\n",
    "For this second variant of the NDWI, a threshold can also be found in https://www.mdpi.com/2072-4292/5/7/3544/htm (McFeeters, 2013):\n",
    "\n",
    "* < 0.3 - Non-water\n",
    "* >= 0.3 - Water\n"
   ]
  },
  {
   "cell_type": "code",
   "execution_count": null,
   "metadata": {
    "id": "At8sJaqvPEEV"
   },
   "outputs": [],
   "source": [
    "def compute_ndwi(im, ndwi):\n",
    "    app = otb.Registry.CreateApplication(\"BandMath\")\n",
    "    app.SetParameterStringList(\"il\",[im])\n",
    "    app.SetParameterString(\"out\", ndwi)\n",
    "    app.SetParameterString(\"exp\", \"your expression\")\n",
    "    exit_code = app.ExecuteAndWriteOutput()"
   ]
  },
  {
   "cell_type": "code",
   "execution_count": null,
   "metadata": {
    "executionInfo": {
     "elapsed": 753,
     "status": "ok",
     "timestamp": 1612967115258,
     "user": {
      "displayName": "",
      "photoUrl": "",
      "userId": ""
     },
     "user_tz": -60
    },
    "id": "4ZJFSuPoPEEX"
   },
   "outputs": [],
   "source": [
    "def compute_ndwi(im, ndwi):\n",
    "    app = otb.Registry.CreateApplication(\"BandMath\")\n",
    "    app.SetParameterStringList(\"il\",[im])\n",
    "    app.SetParameterString(\"out\", ndwi)\n",
    "    app.SetParameterString(\"exp\", \"(im1b2-im1b4)/(im1b2+im1b4)\")\n",
    "    exit_code = app.ExecuteAndWriteOutput()"
   ]
  },
  {
   "cell_type": "code",
   "execution_count": null,
   "metadata": {
    "colab": {
     "base_uri": "https://localhost:8080/",
     "height": 1000
    },
    "executionInfo": {
     "elapsed": 5612,
     "status": "ok",
     "timestamp": 1612967181614,
     "user": {
      "displayName": "",
      "photoUrl": "",
      "userId": ""
     },
     "user_tz": -60
    },
    "id": "lIEf8YxpPEEl",
    "outputId": "7c76e3cb-1775-4b5a-c161-ed9d471ad742"
   },
   "outputs": [],
   "source": [
    "# Compute and display NDWI on your images : \n",
    "ndwi1 = OUTPUT_DIR+\"/ndwi1.tif\"\n",
    "ndwi2 = OUTPUT_DIR+\"/ndwi2.tif\"\n",
    "ndwi3 = OUTPUT_DIR+\"/ndwi3.tif\"\n",
    "\n",
    "compute_ndwi(image1,ndwi1)\n",
    "compute_ndwi(image2,ndwi2)\n",
    "compute_ndwi(image3,ndwi3)\n",
    "\n",
    "rasters_on_map_with_folium([rasterio.open(ndwi1),rasterio.open(ndwi2),rasterio.open(ndwi3), ],OUTPUT_DIR,[\"ndwi\"])"
   ]
  },
  {
   "cell_type": "markdown",
   "metadata": {
    "id": "HX1DBTXpPEEq"
   },
   "source": [
    "## 3) Compute Watermask\n",
    "\n",
    "The aim of this second exercise is to combine NDWI2 values to create a water mask.\n",
    "\n",
    "As we have seen, the NDWI2 images are different depending on the dates, mainly because tides level is different and there maybe some clouds that hide some regions of the image.\n",
    "\n",
    "We have to find a function that can combine the information from the different NDWI images to create a watermask"
   ]
  },
  {
   "cell_type": "markdown",
   "metadata": {
    "id": "qVk7IlOyPEEw"
   },
   "source": [
    "### Create a simple watermask (NDWI threshold)\n",
    "\n",
    "OTB BandMath can use these formula :\n",
    "\n",
    "    binary operators:\n",
    "        ‘+’ addition, ‘-‘ subtraction, ‘*’ multiplication, ‘/’ division\n",
    "        ‘^’ raise x to the power of y\n",
    "        ‘<’ less than, ‘>’ greater than, ‘<=’ less or equal, ‘>=’ greater or equal\n",
    "        ‘==’ equal, ‘!=’ not equal\n",
    "        ‘||’ logical or, ‘&&’ logical and\n",
    "    functions: exp(), log(), sin(), cos(), min(), max(), ...\n",
    "    if-then-else : \"(<expression> ? <value if true> : <value if false>)\"\n",
    "\n",
    "https://www.orfeo-toolbox.org/CookBook/Applications/app_BandMath.html\n",
    "\n",
    "Try to write an expression to create a basic watermask :\n",
    "\n",
    "*if ndwi < 0.3 then return 0 else return 1*"
   ]
  },
  {
   "cell_type": "code",
   "execution_count": null,
   "metadata": {
    "id": "2S2FDbyVPEE0"
   },
   "outputs": [],
   "source": [
    "def threshold_ndwi(ndwi, mask):\n",
    "    # Fill the threshold_ndwi function\n",
    "    pass\n",
    "\n",
    "mask1 = OUTPUT_DIR+\"/mask1.tif\"\n",
    "threshold_ndwi(ndwi1, mask1)"
   ]
  },
  {
   "cell_type": "code",
   "execution_count": null,
   "metadata": {
    "executionInfo": {
     "elapsed": 879,
     "status": "ok",
     "timestamp": 1612967376422,
     "user": {
      "displayName": "",
      "photoUrl": "",
      "userId": ""
     },
     "user_tz": -60
    },
    "id": "0AyTsPhOPEE1"
   },
   "outputs": [],
   "source": [
    "def threshold_ndwi(ndwi, mask):\n",
    "    app = otb.Registry.CreateApplication(\"BandMath\")\n",
    "    app.SetParameterStringList(\"il\",[ndwi])\n",
    "    app.SetParameterString(\"out\", mask)\n",
    "    app.SetParameterString(\"exp\", \"(im1b1 < 0.3 ? 0 : 1) \")\n",
    "    exit_code = app.ExecuteAndWriteOutput()"
   ]
  },
  {
   "cell_type": "code",
   "execution_count": null,
   "metadata": {
    "colab": {
     "base_uri": "https://localhost:8080/"
    },
    "executionInfo": {
     "elapsed": 1757,
     "status": "ok",
     "timestamp": 1612967379501,
     "user": {
      "displayName": "",
      "photoUrl": "",
      "userId": ""
     },
     "user_tz": -60
    },
    "id": "w2xDbZxwPEE4",
    "outputId": "7df456c1-d442-4e5d-9304-576830585ab8"
   },
   "outputs": [],
   "source": [
    "mask1 = OUTPUT_DIR+\"/mask1.tif\"\n",
    "threshold_ndwi(ndwi1, mask1)"
   ]
  },
  {
   "cell_type": "code",
   "execution_count": null,
   "metadata": {
    "colab": {
     "base_uri": "https://localhost:8080/",
     "height": 949
    },
    "executionInfo": {
     "elapsed": 2241,
     "status": "ok",
     "timestamp": 1612967387774,
     "user": {
      "displayName": "",
      "photoUrl": "",
      "userId": ""
     },
     "user_tz": -60
    },
    "id": "VDH-hqH7PEE8",
    "outputId": "fe0e1167-9e76-45bf-c56a-d57675d3e894"
   },
   "outputs": [],
   "source": [
    "rasters_on_map_with_folium([rasterio.open(mask1)],OUTPUT_DIR,[\"mask1\"])"
   ]
  },
  {
   "cell_type": "markdown",
   "metadata": {
    "id": "9XM0ZB7kPEFD"
   },
   "source": [
    "### Create a watermask with the different NDWI images\n",
    "\n",
    "We now want to use the three dates to obtain the better mask, that will better identify the water presence. To do so, we shall identify the largest areas (high tides) in the different watermasks.\n",
    "\n",
    "Tips : OTB BandMath can take as input a list of images (im1, im2, ...) and produce a single result"
   ]
  },
  {
   "cell_type": "code",
   "execution_count": null,
   "metadata": {
    "executionInfo": {
     "elapsed": 2226,
     "status": "ok",
     "timestamp": 1612967424101,
     "user": {
      "displayName": "",
      "photoUrl": "",
      "userId": ""
     },
     "user_tz": -60
    },
    "id": "8JBjkwbRPEFG"
   },
   "outputs": [],
   "source": [
    "def create_water_mask(ndwi1, ndwi2, ndwi3, mask):\n",
    "    pass\n"
   ]
  },
  {
   "cell_type": "code",
   "execution_count": null,
   "metadata": {
    "executionInfo": {
     "elapsed": 750,
     "status": "ok",
     "timestamp": 1612967469719,
     "user": {
      "displayName": "",
      "photoUrl": "",
      "userId": ""
     },
     "user_tz": -60
    },
    "id": "UFKvjViFPEFI"
   },
   "outputs": [],
   "source": [
    "def create_water_mask(ndwi1, ndwi2, ndwi3, mask):\n",
    "    app = otb.Registry.CreateApplication(\"BandMath\")\n",
    "    app.SetParameterStringList(\"il\",[ndwi1, ndwi2, ndwi3])\n",
    "    app.SetParameterString(\"out\", mask)\n",
    "    app.SetParameterString(\"exp\", \"(max(im1b1, im2b1, im3b1) < 0.3 ? 0 : 1) \")\n",
    "    exit_code = app.ExecuteAndWriteOutput()"
   ]
  },
  {
   "cell_type": "code",
   "execution_count": null,
   "metadata": {
    "colab": {
     "base_uri": "https://localhost:8080/"
    },
    "executionInfo": {
     "elapsed": 2169,
     "status": "ok",
     "timestamp": 1612967473151,
     "user": {
      "displayName": "",
      "photoUrl": "",
      "userId": ""
     },
     "user_tz": -60
    },
    "id": "NWzn_2JJPEFT",
    "outputId": "df69a65a-abe3-457e-83f7-413049466c8c"
   },
   "outputs": [],
   "source": [
    "final_mask = OUTPUT_DIR+\"/mask.tif\"\n",
    "create_water_mask(ndwi1, ndwi2, ndwi3, final_mask)"
   ]
  },
  {
   "cell_type": "code",
   "execution_count": null,
   "metadata": {
    "colab": {
     "base_uri": "https://localhost:8080/",
     "height": 949
    },
    "executionInfo": {
     "elapsed": 2067,
     "status": "ok",
     "timestamp": 1612967478863,
     "user": {
      "displayName": "",
      "photoUrl": "",
      "userId": ""
     },
     "user_tz": -60
    },
    "id": "l7FySZluPEFV",
    "outputId": "98b989e5-acb1-4859-fc79-4d6318c80a4a"
   },
   "outputs": [],
   "source": [
    "rasters_on_map_with_folium([rasterio.open(final_mask)],OUTPUT_DIR,[\"mask\"])"
   ]
  },
  {
   "cell_type": "markdown",
   "metadata": {
    "id": "8bTXslfyPEFV"
   },
   "source": [
    "## 4) Polygonize watermask and filter features to count islands\n",
    "\n",
    "In this step, we are going to polygonize our binary masks : we will obtain a lot of polygons ! Some of these features have to be filtered (main land, ocean) in order to count the islands in Morbihan gulf."
   ]
  },
  {
   "cell_type": "code",
   "execution_count": null,
   "metadata": {
    "executionInfo": {
     "elapsed": 733,
     "status": "ok",
     "timestamp": 1612967754517,
     "user": {
      "displayName": "",
      "photoUrl": "",
      "userId": ""
     },
     "user_tz": -60
    },
    "id": "W1MIQyGxPEFX"
   },
   "outputs": [],
   "source": [
    "mask_final = rasterio.open(final_mask)                           "
   ]
  },
  {
   "cell_type": "code",
   "execution_count": null,
   "metadata": {
    "executionInfo": {
     "elapsed": 50161,
     "status": "ok",
     "timestamp": 1612968488852,
     "user": {
      "displayName": "",
      "photoUrl": "",
      "userId": ""
     },
     "user_tz": -60
    },
    "id": "VlS53YJmPEFY"
   },
   "outputs": [],
   "source": [
    "import numpy as np\n",
    "\n",
    "import rasterio\n",
    "from rasterio import features\n",
    "from rasterio import warp\n",
    "\n",
    "from shapely.geometry import Polygon\n",
    "\n",
    "# Morbihan gulf\n",
    "morbihan = {'type': 'FeatureCollection', 'features': [{'type': 'Feature', 'properties': {}, 'geometry': {'type': 'Polygon', 'coordinates': [[[-2.953968, 47.603544], [-2.958085, 47.589653], [-2.929956, 47.563713], [-2.883303, 47.561397], [-2.86478, 47.556763], [-2.840081, 47.547958], [-2.826638, 47.552744], [-2.808114, 47.55761], [-2.774497, 47.5495], [-2.749113, 47.546951], [-2.730932, 47.564329], [-2.728188, 47.5861], [-2.740537, 47.595825], [-2.747055, 47.605317], [-2.780672, 47.609252], [-2.786846, 47.613649], [-2.802348, 47.61882], [-2.831848, 47.616969], [-2.857233, 47.620209], [-2.862721, 47.609563], [-2.865466, 47.600303], [-2.880559, 47.59984], [-2.891536, 47.597988], [-2.896339, 47.582243], [-2.938875, 47.589653], [-2.953968, 47.603544]]]}}]}\n",
    "morbihan_as_polygon = Polygon(morbihan['features'][0]['geometry']['coordinates'][0])\n",
    "\n",
    "# Convert Watermask to geojson collection\n",
    "with rasterio.open(final_mask) as src:\n",
    "    image = src.read(1).astype(np.uint8)\n",
    "try:\n",
    "    transform = src.affine\n",
    "# depend on rasterio version\n",
    "except AttributeError:\n",
    "    transform = src.transform\n",
    "\n",
    "results = ({'type':'Feature', 'properties': {}, 'geometry': s} for i, (s, __) in enumerate(features.shapes(image, mask=image, transform=transform)))      \n",
    "\n",
    "# Filter geojson\n",
    "collection = {'type': 'FeatureCollection', 'features': list()}\n",
    "for res in results:\n",
    "    # area in m^2\n",
    "    item_area = Polygon(res['geometry']['coordinates'][0]).area\n",
    "    \n",
    "    #print(\"> \"+str(item_area))\n",
    "    \n",
    "    # convert geom to EPSG:4326 (WGS84)\n",
    "    geom_for_geojson = warp.transform_geom(src.crs, 'EPSG:4326', res['geometry'])   \n",
    "    #print(geom_for_geojson)\n",
    "    #print(\"*****\\n\", morbihan_as_polygon)\n",
    "    #break\n",
    "    island_as_polygon = Polygon(geom_for_geojson['coordinates'][0])\n",
    "    \n",
    "    # Filter the smallest areas and the biggest (main land) and\n",
    "    # Crop the \"watermask\" with envelope shape morbihan (~ Morbihan gulf)\n",
    "    #\n",
    "     \n",
    "    #  and island_as_polygon.intersects(morbihan_as_polygon): \n",
    "    if item_area < 5000000.0 and item_area > 10000.0: \n",
    "        feature = dict(res)\n",
    "        feature['geometry'] = geom_for_geojson\n",
    "        collection['features'].append(feature)"
   ]
  },
  {
   "cell_type": "code",
   "execution_count": null,
   "metadata": {
    "executionInfo": {
     "elapsed": 908,
     "status": "ok",
     "timestamp": 1612968944724,
     "user": {
      "displayName": "",
      "photoUrl": "",
      "userId": ""
     },
     "user_tz": -60
    },
    "id": "U-lfJbSHPEFe"
   },
   "outputs": [],
   "source": [
    "image2\n",
    "OUTPUT_DIR=\"gdrive/MyDrive/OTB_training\"\n",
    "import geojson\n",
    "from geojson import GeoJSON"
   ]
  },
  {
   "cell_type": "code",
   "execution_count": null,
   "metadata": {
    "colab": {
     "base_uri": "https://localhost:8080/"
    },
    "executionInfo": {
     "elapsed": 4088,
     "status": "ok",
     "timestamp": 1612968889274,
     "user": {
      "displayName": "",
      "photoUrl": "",
      "userId": ""
     },
     "user_tz": -60
    },
    "id": "R-vHM6IWb-I7",
    "outputId": "99435703-6ec6-445c-f3ba-321ee2acde48"
   },
   "outputs": [],
   "source": [
    "!pip install geojson"
   ]
  },
  {
   "cell_type": "code",
   "execution_count": null,
   "metadata": {
    "colab": {
     "base_uri": "https://localhost:8080/",
     "height": 472
    },
    "executionInfo": {
     "elapsed": 828,
     "status": "error",
     "timestamp": 1612968949733,
     "user": {
      "displayName": "",
      "photoUrl": "",
      "userId": ""
     },
     "user_tz": -60
    },
    "id": "ZdcduTsZPEFi",
    "outputId": "fb7e50c9-62e4-406b-c03b-8a8bfe0e7b36"
   },
   "outputs": [],
   "source": [
    "print (\"Nb islands: {}\".format(len(collection['features'])))\n",
    "m = rasters_on_map_with_folium([rasterio.open(image2)], OUTPUT_DIR, [\"S2\"], geojson_data=collection)\n",
    "m"
   ]
  },
  {
   "cell_type": "markdown",
   "metadata": {
    "id": "yEHizhVtPEFj"
   },
   "source": [
    "### Visualize the islands (and count them :-)"
   ]
  },
  {
   "cell_type": "code",
   "execution_count": null,
   "metadata": {
    "id": "F1AW0VM-PEFm"
   },
   "outputs": [],
   "source": []
  },
  {
   "cell_type": "code",
   "execution_count": null,
   "metadata": {
    "id": "012XvEOLPEFm"
   },
   "outputs": [],
   "source": [
    "from ipyleaflet import Map, Rectangle, ImageOverlay, FullScreenControl, DrawControl, LayersControl, GeoJSON\n",
    "\n",
    "geo_json = GeoJSON(data=collection,\n",
    "                           style = {'color': 'green', 'opacity':1, 'weight':1.9, 'dashArray':'9', 'fillOpacity':0.1})"
   ]
  },
  {
   "cell_type": "code",
   "execution_count": null,
   "metadata": {
    "id": "8FNYnluJPEFn"
   },
   "outputs": [],
   "source": [
    "my_map = folium.Map()"
   ]
  },
  {
   "cell_type": "code",
   "execution_count": null,
   "metadata": {
    "id": "JfjBh3DYPEFo"
   },
   "outputs": [],
   "source": [
    "my_map.add_children(geo_json)"
   ]
  },
  {
   "cell_type": "code",
   "execution_count": null,
   "metadata": {
    "id": "T0Rs7U6sPEFt"
   },
   "outputs": [],
   "source": []
  },
  {
   "cell_type": "code",
   "execution_count": null,
   "metadata": {
    "id": "PuHjY--oPEFy"
   },
   "outputs": [],
   "source": []
  },
  {
   "cell_type": "markdown",
   "metadata": {
    "id": "gJAQJtSLPEF0"
   },
   "source": [
    "## Extra steps\n",
    "\n",
    "We could optimize the previous code by using OTB pipeline : instead of computing 3 watermaks, and then combining them, we could simplify the processing chain and compute directly the final watermask. This will save I/O and thus save computation time (especially if the chain is complex or use a lot of images).\n",
    "\n",
    "Since OTB 5.8, it is possible to connect an output image parameter from one application to the input image parameter of the next parameter. This results in the wiring of the internal ITK/OTB pipelines together, permitting image streaming between the applications. Consequently, this removes the need of writing temporary images and improves performance. Only the last application of the processing chain is responsible for writing the final result images.\n",
    "\n",
    "<b> Please rewrite the  <span style=\"color:black;background:yellow\"> code bellow </span> in order to only write the watermask file </b>\n",
    "\n",
    "**Tips:** Only call Execute() to setup the pipeline, not ExecuteAndWriteOutput() which would run it and write the output image and also use these functions to connect OTB applications :\n",
    "- ```GetParameterOutputImage``` : get a pointer to an image object [instead of reading from file]\n",
    "- ```AddImageToParameterInputImageList``` : add an image to an InputImageList parameter as an pointer to an image object pointer [instead of reading from file] (```SetParameterInputImage``` for an InputImageList)"
   ]
  },
  {
   "cell_type": "code",
   "execution_count": null,
   "metadata": {
    "id": "B4bDEnbXPEF5"
   },
   "outputs": [],
   "source": []
  }
 ],
 "metadata": {
  "celltoolbar": "Aucun(e)",
  "colab": {
   "name": "Copie de 01-otb-guided-tour.ipynb",
   "provenance": [
    {
     "file_id": "https://github.com/otbformation/virtual-workshop/blob/master/sources/notebooks/01-otb-guided-tour.ipynb",
     "timestamp": 1612970980188
    }
   ]
  },
  "kernelspec": {
   "display_name": "Python 3",
   "language": "python",
   "name": "python3"
  },
  "language_info": {
   "codemirror_mode": {
    "name": "ipython",
    "version": 3
   },
   "file_extension": ".py",
   "mimetype": "text/x-python",
   "name": "python",
   "nbconvert_exporter": "python",
   "pygments_lexer": "ipython3",
   "version": "3.6.9"
  }
 },
 "nbformat": 4,
 "nbformat_minor": 1
}
